{
 "cells": [
  {
   "cell_type": "code",
   "execution_count": 28,
   "metadata": {},
   "outputs": [],
   "source": [
    "import pandas as pd\n",
    "import os "
   ]
  },
  {
   "cell_type": "code",
   "execution_count": 29,
   "metadata": {},
   "outputs": [],
   "source": [
    "base_path = './init_rdc_data/topN_data/short_path_tree/ablstm-8/'"
   ]
  },
  {
   "cell_type": "code",
   "execution_count": 30,
   "metadata": {},
   "outputs": [],
   "source": [
    "file_list = sorted(os.listdir(base_path))"
   ]
  },
  {
   "cell_type": "code",
   "execution_count": 1,
   "metadata": {},
   "outputs": [],
   "source": [
    "#file_list"
   ]
  },
  {
   "cell_type": "code",
   "execution_count": 37,
   "metadata": {},
   "outputs": [],
   "source": [
    "def Load_Data(file_number,sep):\n",
    "    file_path = file_list[file_number]\n",
    "    #print(file_path)\n",
    "    data0 = pd.read_csv(os.path.join(base_path,file_path),sep=sep,header=-1)\n",
    "    data0.iloc[:,0]=data0.iloc[:,0].astype(str)\n",
    "    data0['label_list'] = data0[[i for i in data0.columns.tolist() if i%2==0]].apply(lambda x:tuple(x),axis=1)\n",
    "    data0['prob_list'] = data0[[i for i in data0.columns[:-1] if i%2==1]].apply(lambda x:tuple(x),axis=1)\n",
    "    modify = data0[['label_list','prob_list']]\n",
    "    modify.columns=['label_list%d'%file_number,'prob_list%d'%file_number]\n",
    "    return modify"
   ]
  },
  {
   "cell_type": "code",
   "execution_count": null,
   "metadata": {},
   "outputs": [],
   "source": [
    "data1 = Load_Data(1,'\\t')\n",
    "data2 = Load_Data(2,'\\t')\n",
    "data3 = Load_Data(3,'\\t')\n",
    "data4 = Load_Data(4,'\\t')\n",
    "data5 = Load_Data(5,'\\t')\n",
    "data6 = Load_Data(6,'\\t')\n",
    "data7 = Load_Data(7,'\\t')\n",
    "data8 = Load_Data(8,'\\t')"
   ]
  },
  {
   "cell_type": "code",
   "execution_count": 41,
   "metadata": {},
   "outputs": [],
   "source": [
    "data_combine = pd.concat([eval('data%d'%i) for i in range(1,9)],axis=1)"
   ]
  },
  {
   "cell_type": "code",
   "execution_count": 42,
   "metadata": {},
   "outputs": [
    {
     "data": {
      "text/html": [
       "<div>\n",
       "<style scoped>\n",
       "    .dataframe tbody tr th:only-of-type {\n",
       "        vertical-align: middle;\n",
       "    }\n",
       "\n",
       "    .dataframe tbody tr th {\n",
       "        vertical-align: top;\n",
       "    }\n",
       "\n",
       "    .dataframe thead th {\n",
       "        text-align: right;\n",
       "    }\n",
       "</style>\n",
       "<table border=\"1\" class=\"dataframe\">\n",
       "  <thead>\n",
       "    <tr style=\"text-align: right;\">\n",
       "      <th></th>\n",
       "      <th>label_list1</th>\n",
       "      <th>prob_list1</th>\n",
       "      <th>label_list2</th>\n",
       "      <th>prob_list2</th>\n",
       "      <th>label_list3</th>\n",
       "      <th>prob_list3</th>\n",
       "      <th>label_list4</th>\n",
       "      <th>prob_list4</th>\n",
       "      <th>label_list5</th>\n",
       "      <th>prob_list5</th>\n",
       "      <th>label_list6</th>\n",
       "      <th>prob_list6</th>\n",
       "      <th>label_list7</th>\n",
       "      <th>prob_list7</th>\n",
       "      <th>label_list8</th>\n",
       "      <th>prob_list8</th>\n",
       "    </tr>\n",
       "  </thead>\n",
       "  <tbody>\n",
       "    <tr>\n",
       "      <th>0</th>\n",
       "      <td>(1608, 4015, 2075)</td>\n",
       "      <td>(1.0, 1.2098800000000002e-09, 2.22080000000000...</td>\n",
       "      <td>(1608&gt;2320, 4015&gt;2824, 2075&gt;2297)</td>\n",
       "      <td>(1.0, 1.7406599999999997e-10, 4.16896e-11)</td>\n",
       "      <td>(1608&gt;2320&gt;2173, 1608&gt;2320&gt;498, 1608&gt;2320&gt;2106)</td>\n",
       "      <td>(0.9999979999999999, 1.12183e-06, 6.4067499999...</td>\n",
       "      <td>(1608&gt;2320&gt;2173&gt;2878, 1608&gt;2320&gt;2173&gt;3813, 160...</td>\n",
       "      <td>(0.776623, 0.221275, 0.00198419)</td>\n",
       "      <td>(4015&gt;3636&gt;526&gt;2454&gt;2224, 4015&gt;3271&gt;2768&gt;3427&gt;...</td>\n",
       "      <td>(0.543155, 0.22697699999999998, 0.0724054)</td>\n",
       "      <td>(4015&gt;3754&gt;3663&gt;512&gt;4157&gt;239, 4015&gt;3754&gt;3663&gt;5...</td>\n",
       "      <td>(0.896109, 0.0107035, 0.0095966)</td>\n",
       "      <td>(4015&gt;2824&gt;2964&gt;2473&gt;4559&gt;1399&gt;1883, 4015&gt;2824...</td>\n",
       "      <td>(0.409508, 0.231496, 0.033969)</td>\n",
       "      <td>(4015&gt;2824&gt;2964&gt;2473&gt;4559&gt;4340&gt;3056&gt;4481, 4015...</td>\n",
       "      <td>(0.694503, 0.236421, 0.0690759)</td>\n",
       "    </tr>\n",
       "    <tr>\n",
       "      <th>1</th>\n",
       "      <td>(2199, 4015, 3292)</td>\n",
       "      <td>(1.0, 4.08024e-08, 2.05095e-08)</td>\n",
       "      <td>(2199&gt;4592, 4015&gt;3754, 2199&gt;661)</td>\n",
       "      <td>(1.0, 3.6342400000000004e-08, 7.61991e-09)</td>\n",
       "      <td>(2199&gt;4592&gt;12, 2199&gt;4592&gt;193, 4015&gt;3754&gt;3663)</td>\n",
       "      <td>(1.0, 1.15999e-08, 6.216819999999999e-09)</td>\n",
       "      <td>(3730&gt;1887&gt;3044&gt;3352, 3292&gt;114&gt;2641&gt;3624, 2199...</td>\n",
       "      <td>(0.591222, 0.15166500000000002, 0.072165600000...</td>\n",
       "      <td>(1208&gt;310&gt;2027&gt;3579&gt;869, 1395&gt;2736&gt;1061&gt;1187&gt;4...</td>\n",
       "      <td>(0.583026, 0.09426269999999999, 0.089371300000...</td>\n",
       "      <td>(4015&gt;3285&gt;345&gt;1237&gt;592&gt;2449, 4015&gt;2824&gt;2964&gt;2...</td>\n",
       "      <td>(0.39813899999999997, 0.139002, 0.123576999999...</td>\n",
       "      <td>(4015&gt;2824&gt;2964&gt;2473&gt;4559&gt;1399&gt;1883, 4015&gt;2824...</td>\n",
       "      <td>(0.17911300000000002, 0.1036, 0.09877269999999...</td>\n",
       "      <td>(4015&gt;2824&gt;2964&gt;2473&gt;4559&gt;4340&gt;3056&gt;4481, 4015...</td>\n",
       "      <td>(0.561643, 0.34670500000000004, 0.091652100000...</td>\n",
       "    </tr>\n",
       "    <tr>\n",
       "      <th>2</th>\n",
       "      <td>(2199, 3292, 4015)</td>\n",
       "      <td>(0.999999, 8.66808e-07, 6.346820000000001e-07)</td>\n",
       "      <td>(2199&gt;4592, 4015&gt;3754, 2199&gt;915)</td>\n",
       "      <td>(1.0, 4.46886e-08, 2.52208e-09)</td>\n",
       "      <td>(2199&gt;4592&gt;12, 2199&gt;4592&gt;193, 4015&gt;3754&gt;3663)</td>\n",
       "      <td>(1.0, 1.04572e-07, 4.89824e-08)</td>\n",
       "      <td>(4015&gt;3754&gt;3663&gt;512, 4015&gt;3754&gt;3663&gt;1500, 2075...</td>\n",
       "      <td>(0.931659, 0.0538514, 0.0104613)</td>\n",
       "      <td>(4015&gt;3754&gt;3663&gt;512&gt;4157, 4015&gt;3754&gt;3663&gt;1500&gt;...</td>\n",
       "      <td>(0.941535, 0.05176669999999999, 0.00357637)</td>\n",
       "      <td>(4015&gt;3754&gt;3663&gt;512&gt;4157&gt;2157, 4015&gt;3754&gt;3663&gt;...</td>\n",
       "      <td>(0.984409, 0.012314799999999999, 0.00101247)</td>\n",
       "      <td>(4015&gt;2824&gt;2964&gt;2473&gt;4559&gt;1399&gt;1883, 4015&gt;2824...</td>\n",
       "      <td>(0.382312, 0.103744, 0.0593664)</td>\n",
       "      <td>(4015&gt;2824&gt;2964&gt;2886&gt;4632&gt;3037&gt;4189&gt;2444, 4015...</td>\n",
       "      <td>(0.439116, 0.419563, 0.141321)</td>\n",
       "    </tr>\n",
       "  </tbody>\n",
       "</table>\n",
       "</div>"
      ],
      "text/plain": [
       "          label_list1                                         prob_list1  \\\n",
       "0  (1608, 4015, 2075)  (1.0, 1.2098800000000002e-09, 2.22080000000000...   \n",
       "1  (2199, 4015, 3292)                    (1.0, 4.08024e-08, 2.05095e-08)   \n",
       "2  (2199, 3292, 4015)     (0.999999, 8.66808e-07, 6.346820000000001e-07)   \n",
       "\n",
       "                         label_list2  \\\n",
       "0  (1608>2320, 4015>2824, 2075>2297)   \n",
       "1   (2199>4592, 4015>3754, 2199>661)   \n",
       "2   (2199>4592, 4015>3754, 2199>915)   \n",
       "\n",
       "                                   prob_list2  \\\n",
       "0  (1.0, 1.7406599999999997e-10, 4.16896e-11)   \n",
       "1  (1.0, 3.6342400000000004e-08, 7.61991e-09)   \n",
       "2             (1.0, 4.46886e-08, 2.52208e-09)   \n",
       "\n",
       "                                       label_list3  \\\n",
       "0  (1608>2320>2173, 1608>2320>498, 1608>2320>2106)   \n",
       "1    (2199>4592>12, 2199>4592>193, 4015>3754>3663)   \n",
       "2    (2199>4592>12, 2199>4592>193, 4015>3754>3663)   \n",
       "\n",
       "                                          prob_list3  \\\n",
       "0  (0.9999979999999999, 1.12183e-06, 6.4067499999...   \n",
       "1          (1.0, 1.15999e-08, 6.216819999999999e-09)   \n",
       "2                    (1.0, 1.04572e-07, 4.89824e-08)   \n",
       "\n",
       "                                         label_list4  \\\n",
       "0  (1608>2320>2173>2878, 1608>2320>2173>3813, 160...   \n",
       "1  (3730>1887>3044>3352, 3292>114>2641>3624, 2199...   \n",
       "2  (4015>3754>3663>512, 4015>3754>3663>1500, 2075...   \n",
       "\n",
       "                                          prob_list4  \\\n",
       "0                   (0.776623, 0.221275, 0.00198419)   \n",
       "1  (0.591222, 0.15166500000000002, 0.072165600000...   \n",
       "2                   (0.931659, 0.0538514, 0.0104613)   \n",
       "\n",
       "                                         label_list5  \\\n",
       "0  (4015>3636>526>2454>2224, 4015>3271>2768>3427>...   \n",
       "1  (1208>310>2027>3579>869, 1395>2736>1061>1187>4...   \n",
       "2  (4015>3754>3663>512>4157, 4015>3754>3663>1500>...   \n",
       "\n",
       "                                          prob_list5  \\\n",
       "0         (0.543155, 0.22697699999999998, 0.0724054)   \n",
       "1  (0.583026, 0.09426269999999999, 0.089371300000...   \n",
       "2        (0.941535, 0.05176669999999999, 0.00357637)   \n",
       "\n",
       "                                         label_list6  \\\n",
       "0  (4015>3754>3663>512>4157>239, 4015>3754>3663>5...   \n",
       "1  (4015>3285>345>1237>592>2449, 4015>2824>2964>2...   \n",
       "2  (4015>3754>3663>512>4157>2157, 4015>3754>3663>...   \n",
       "\n",
       "                                          prob_list6  \\\n",
       "0                   (0.896109, 0.0107035, 0.0095966)   \n",
       "1  (0.39813899999999997, 0.139002, 0.123576999999...   \n",
       "2       (0.984409, 0.012314799999999999, 0.00101247)   \n",
       "\n",
       "                                         label_list7  \\\n",
       "0  (4015>2824>2964>2473>4559>1399>1883, 4015>2824...   \n",
       "1  (4015>2824>2964>2473>4559>1399>1883, 4015>2824...   \n",
       "2  (4015>2824>2964>2473>4559>1399>1883, 4015>2824...   \n",
       "\n",
       "                                          prob_list7  \\\n",
       "0                     (0.409508, 0.231496, 0.033969)   \n",
       "1  (0.17911300000000002, 0.1036, 0.09877269999999...   \n",
       "2                    (0.382312, 0.103744, 0.0593664)   \n",
       "\n",
       "                                         label_list8  \\\n",
       "0  (4015>2824>2964>2473>4559>4340>3056>4481, 4015...   \n",
       "1  (4015>2824>2964>2473>4559>4340>3056>4481, 4015...   \n",
       "2  (4015>2824>2964>2886>4632>3037>4189>2444, 4015...   \n",
       "\n",
       "                                          prob_list8  \n",
       "0                    (0.694503, 0.236421, 0.0690759)  \n",
       "1  (0.561643, 0.34670500000000004, 0.091652100000...  \n",
       "2                     (0.439116, 0.419563, 0.141321)  "
      ]
     },
     "execution_count": 42,
     "metadata": {},
     "output_type": "execute_result"
    }
   ],
   "source": [
    "data_combine.head(3)"
   ]
  },
  {
   "cell_type": "code",
   "execution_count": 44,
   "metadata": {},
   "outputs": [],
   "source": [
    "data_combine['label_list1'] = data_combine['label_list1'].apply(lambda s:s[:1])\n",
    "data_combine['prob_list1'] = data_combine['prob_list1'].apply(lambda s:s[:1])"
   ]
  },
  {
   "cell_type": "code",
   "execution_count": 45,
   "metadata": {},
   "outputs": [],
   "source": [
    "data_final = pd.DataFrame()"
   ]
  },
  {
   "cell_type": "code",
   "execution_count": 47,
   "metadata": {},
   "outputs": [],
   "source": [
    "data_final['label_list'] = data_combine[[i for i in data_combine.columns if 'label_list' in i]].apply(lambda s: tuple(s),axis=1)"
   ]
  },
  {
   "cell_type": "code",
   "execution_count": 48,
   "metadata": {},
   "outputs": [],
   "source": [
    "data_final['prob_list'] = data_combine[[i for i in data_combine.columns if 'prob_list' in i]].apply(lambda s: tuple(s),axis=1)"
   ]
  },
  {
   "cell_type": "code",
   "execution_count": 49,
   "metadata": {},
   "outputs": [
    {
     "data": {
      "text/html": [
       "<div>\n",
       "<style scoped>\n",
       "    .dataframe tbody tr th:only-of-type {\n",
       "        vertical-align: middle;\n",
       "    }\n",
       "\n",
       "    .dataframe tbody tr th {\n",
       "        vertical-align: top;\n",
       "    }\n",
       "\n",
       "    .dataframe thead th {\n",
       "        text-align: right;\n",
       "    }\n",
       "</style>\n",
       "<table border=\"1\" class=\"dataframe\">\n",
       "  <thead>\n",
       "    <tr style=\"text-align: right;\">\n",
       "      <th></th>\n",
       "      <th>label_list</th>\n",
       "      <th>prob_list</th>\n",
       "    </tr>\n",
       "  </thead>\n",
       "  <tbody>\n",
       "    <tr>\n",
       "      <th>0</th>\n",
       "      <td>((1608,), (1608&gt;2320, 4015&gt;2824, 2075&gt;2297), (...</td>\n",
       "      <td>((1.0,), (1.0, 1.7406599999999997e-10, 4.16896...</td>\n",
       "    </tr>\n",
       "    <tr>\n",
       "      <th>1</th>\n",
       "      <td>((2199,), (2199&gt;4592, 4015&gt;3754, 2199&gt;661), (2...</td>\n",
       "      <td>((1.0,), (1.0, 3.6342400000000004e-08, 7.61991...</td>\n",
       "    </tr>\n",
       "  </tbody>\n",
       "</table>\n",
       "</div>"
      ],
      "text/plain": [
       "                                          label_list  \\\n",
       "0  ((1608,), (1608>2320, 4015>2824, 2075>2297), (...   \n",
       "1  ((2199,), (2199>4592, 4015>3754, 2199>661), (2...   \n",
       "\n",
       "                                           prob_list  \n",
       "0  ((1.0,), (1.0, 1.7406599999999997e-10, 4.16896...  \n",
       "1  ((1.0,), (1.0, 3.6342400000000004e-08, 7.61991...  "
      ]
     },
     "execution_count": 49,
     "metadata": {},
     "output_type": "execute_result"
    }
   ],
   "source": [
    "data_final.head(2)"
   ]
  },
  {
   "cell_type": "code",
   "execution_count": 55,
   "metadata": {},
   "outputs": [],
   "source": [
    "def find_label(exam_list):\n",
    "    filter_list = []\n",
    "    root = exam_list[0][0]\n",
    "    for i,j in enumerate(exam_list):\n",
    "        if i==0:\n",
    "            filter_list.append(exam_list[i])\n",
    "        else:\n",
    "            exam_list_tmp= [k for k  in exam_list[i] if root in k]\n",
    "            filter_list.append(exam_list_tmp)\n",
    "            if len(exam_list_tmp)==0:\n",
    "                break\n",
    "            else:\n",
    "                root = exam_list_tmp[0]\n",
    "    filter_list = [i for i in filter_list if i != []]\n",
    "    return filter_list[-1],len(filter_list)"
   ]
  },
  {
   "cell_type": "code",
   "execution_count": null,
   "metadata": {},
   "outputs": [],
   "source": [
    "find_label(data_final.label_list[0])"
   ]
  },
  {
   "cell_type": "code",
   "execution_count": 59,
   "metadata": {},
   "outputs": [
    {
     "data": {
      "text/plain": [
       "((1.0,),\n",
       " (1.0, 1.7406599999999997e-10, 4.16896e-11),\n",
       " (0.9999979999999999, 1.12183e-06, 6.406749999999999e-07),\n",
       " (0.776623, 0.221275, 0.00198419),\n",
       " (0.543155, 0.22697699999999998, 0.0724054),\n",
       " (0.896109, 0.0107035, 0.0095966),\n",
       " (0.409508, 0.231496, 0.033969),\n",
       " (0.694503, 0.236421, 0.0690759))"
      ]
     },
     "execution_count": 59,
     "metadata": {},
     "output_type": "execute_result"
    }
   ],
   "source": [
    "data_final.prob_list[0]"
   ]
  },
  {
   "cell_type": "code",
   "execution_count": null,
   "metadata": {
    "scrolled": true
   },
   "outputs": [],
   "source": [
    "tree_search_short_path(data_final.label_list[0],data_final.prob_list[0])"
   ]
  },
  {
   "cell_type": "code",
   "execution_count": 63,
   "metadata": {},
   "outputs": [],
   "source": [
    "def tree_search_short_path(label_list,prob_list):\n",
    "\n",
    "    target_label,level_flag =find_label(label_list)\n",
    "    \n",
    "    position_flag = [label_list[level_flag-1].index(i) for i in target_label]\n",
    "#     print(position_flag)\n",
    "    target_prob = [prob_list[level_flag-1][i] for i in position_flag]\n",
    "    return target_label,target_prob"
   ]
  },
  {
   "cell_type": "code",
   "execution_count": 64,
   "metadata": {},
   "outputs": [
    {
     "data": {
      "text/html": [
       "<div>\n",
       "<style scoped>\n",
       "    .dataframe tbody tr th:only-of-type {\n",
       "        vertical-align: middle;\n",
       "    }\n",
       "\n",
       "    .dataframe tbody tr th {\n",
       "        vertical-align: top;\n",
       "    }\n",
       "\n",
       "    .dataframe thead th {\n",
       "        text-align: right;\n",
       "    }\n",
       "</style>\n",
       "<table border=\"1\" class=\"dataframe\">\n",
       "  <thead>\n",
       "    <tr style=\"text-align: right;\">\n",
       "      <th></th>\n",
       "      <th>label_list</th>\n",
       "      <th>prob_list</th>\n",
       "    </tr>\n",
       "  </thead>\n",
       "  <tbody>\n",
       "    <tr>\n",
       "      <th>0</th>\n",
       "      <td>((1608,), (1608&gt;2320, 4015&gt;2824, 2075&gt;2297), (...</td>\n",
       "      <td>((1.0,), (1.0, 1.7406599999999997e-10, 4.16896...</td>\n",
       "    </tr>\n",
       "    <tr>\n",
       "      <th>1</th>\n",
       "      <td>((2199,), (2199&gt;4592, 4015&gt;3754, 2199&gt;661), (2...</td>\n",
       "      <td>((1.0,), (1.0, 3.6342400000000004e-08, 7.61991...</td>\n",
       "    </tr>\n",
       "  </tbody>\n",
       "</table>\n",
       "</div>"
      ],
      "text/plain": [
       "                                          label_list  \\\n",
       "0  ((1608,), (1608>2320, 4015>2824, 2075>2297), (...   \n",
       "1  ((2199,), (2199>4592, 4015>3754, 2199>661), (2...   \n",
       "\n",
       "                                           prob_list  \n",
       "0  ((1.0,), (1.0, 1.7406599999999997e-10, 4.16896...  \n",
       "1  ((1.0,), (1.0, 3.6342400000000004e-08, 7.61991...  "
      ]
     },
     "execution_count": 64,
     "metadata": {},
     "output_type": "execute_result"
    }
   ],
   "source": [
    "data_final.head(2)"
   ]
  },
  {
   "cell_type": "code",
   "execution_count": 65,
   "metadata": {},
   "outputs": [],
   "source": [
    "data_final['target'] = list(map(lambda x,y: tree_search_short_path(x,y),data_final['label_list'],data_final['prob_list']))"
   ]
  },
  {
   "cell_type": "code",
   "execution_count": 67,
   "metadata": {},
   "outputs": [],
   "source": [
    "data_final['target_str']=data_final['target'].apply(lambda s:str(s))"
   ]
  },
  {
   "cell_type": "code",
   "execution_count": 70,
   "metadata": {},
   "outputs": [],
   "source": [
    "output_path = './init_rdc_data/topN_data/short_path_tree/'"
   ]
  },
  {
   "cell_type": "code",
   "execution_count": 71,
   "metadata": {},
   "outputs": [],
   "source": [
    "data_final[['target_str']].to_csv(os.path.join(output_path,'sp_multi_choice.tsv'),sep='\\t',index=False,header=None)"
   ]
  },
  {
   "cell_type": "code",
   "execution_count": 73,
   "metadata": {},
   "outputs": [
    {
     "data": {
      "text/html": [
       "<div>\n",
       "<style scoped>\n",
       "    .dataframe tbody tr th:only-of-type {\n",
       "        vertical-align: middle;\n",
       "    }\n",
       "\n",
       "    .dataframe tbody tr th {\n",
       "        vertical-align: top;\n",
       "    }\n",
       "\n",
       "    .dataframe thead th {\n",
       "        text-align: right;\n",
       "    }\n",
       "</style>\n",
       "<table border=\"1\" class=\"dataframe\">\n",
       "  <thead>\n",
       "    <tr style=\"text-align: right;\">\n",
       "      <th></th>\n",
       "      <th>label_list</th>\n",
       "      <th>prob_list</th>\n",
       "      <th>target</th>\n",
       "      <th>target_str</th>\n",
       "    </tr>\n",
       "  </thead>\n",
       "  <tbody>\n",
       "    <tr>\n",
       "      <th>0</th>\n",
       "      <td>((1608,), (1608&gt;2320, 4015&gt;2824, 2075&gt;2297), (...</td>\n",
       "      <td>((1.0,), (1.0, 1.7406599999999997e-10, 4.16896...</td>\n",
       "      <td>([1608&gt;2320&gt;2173&gt;2878, 1608&gt;2320&gt;2173&gt;3813], [...</td>\n",
       "      <td>(['1608&gt;2320&gt;2173&gt;2878', '1608&gt;2320&gt;2173&gt;3813'...</td>\n",
       "    </tr>\n",
       "    <tr>\n",
       "      <th>1</th>\n",
       "      <td>((2199,), (2199&gt;4592, 4015&gt;3754, 2199&gt;661), (2...</td>\n",
       "      <td>((1.0,), (1.0, 3.6342400000000004e-08, 7.61991...</td>\n",
       "      <td>([2199&gt;4592&gt;12, 2199&gt;4592&gt;193], [1.0, 1.15999e...</td>\n",
       "      <td>(['2199&gt;4592&gt;12', '2199&gt;4592&gt;193'], [1.0, 1.15...</td>\n",
       "    </tr>\n",
       "  </tbody>\n",
       "</table>\n",
       "</div>"
      ],
      "text/plain": [
       "                                          label_list  \\\n",
       "0  ((1608,), (1608>2320, 4015>2824, 2075>2297), (...   \n",
       "1  ((2199,), (2199>4592, 4015>3754, 2199>661), (2...   \n",
       "\n",
       "                                           prob_list  \\\n",
       "0  ((1.0,), (1.0, 1.7406599999999997e-10, 4.16896...   \n",
       "1  ((1.0,), (1.0, 3.6342400000000004e-08, 7.61991...   \n",
       "\n",
       "                                              target  \\\n",
       "0  ([1608>2320>2173>2878, 1608>2320>2173>3813], [...   \n",
       "1  ([2199>4592>12, 2199>4592>193], [1.0, 1.15999e...   \n",
       "\n",
       "                                          target_str  \n",
       "0  (['1608>2320>2173>2878', '1608>2320>2173>3813'...  \n",
       "1  (['2199>4592>12', '2199>4592>193'], [1.0, 1.15...  "
      ]
     },
     "execution_count": 73,
     "metadata": {},
     "output_type": "execute_result"
    }
   ],
   "source": [
    "data_final.head(2)"
   ]
  },
  {
   "cell_type": "code",
   "execution_count": 79,
   "metadata": {},
   "outputs": [],
   "source": [
    "data_final['target_label'] = data_final['target'].apply(lambda s:s[0])\n",
    "data_final['target_prob'] =data_final['target'].apply(lambda s:s[1])"
   ]
  },
  {
   "cell_type": "code",
   "execution_count": 80,
   "metadata": {},
   "outputs": [],
   "source": [
    "data_final[['target_label','target_prob']].to_csv('./init_rdc_data/topN_data/short_path_tree/sp-tree.tsv',\\\n",
    "                                                 sep='\\t',index=False,header=None)"
   ]
  },
  {
   "cell_type": "code",
   "execution_count": null,
   "metadata": {},
   "outputs": [],
   "source": []
  }
 ],
 "metadata": {
  "kernelspec": {
   "display_name": "Python 3",
   "language": "python",
   "name": "python3"
  },
  "language_info": {
   "codemirror_mode": {
    "name": "ipython",
    "version": 3
   },
   "file_extension": ".py",
   "mimetype": "text/x-python",
   "name": "python",
   "nbconvert_exporter": "python",
   "pygments_lexer": "ipython3",
   "version": "3.6.5"
  }
 },
 "nbformat": 4,
 "nbformat_minor": 2
}
