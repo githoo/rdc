{
 "cells": [
  {
   "cell_type": "code",
   "execution_count": 1,
   "metadata": {},
   "outputs": [],
   "source": [
    "import pandas as pd\n",
    "import os "
   ]
  },
  {
   "cell_type": "code",
   "execution_count": 3,
   "metadata": {},
   "outputs": [],
   "source": [
    "from imp import reload\n",
    "import strategy\n",
    "reload(strategy)"
   ]
  },
  {
   "cell_type": "code",
   "execution_count": 107,
   "metadata": {},
   "outputs": [],
   "source": [
    "base_data_path = './init_rdc_data/topN_data/all_best/'"
   ]
  },
  {
   "cell_type": "code",
   "execution_count": 108,
   "metadata": {},
   "outputs": [],
   "source": [
    "# 载入"
   ]
  },
  {
   "cell_type": "code",
   "execution_count": 4,
   "metadata": {},
   "outputs": [],
   "source": [
    "file_list = sorted(os.listdir(base_data_path))\n",
    "file_list"
   ]
  },
  {
   "cell_type": "code",
   "execution_count": 110,
   "metadata": {},
   "outputs": [],
   "source": [
    "def load_data(file_number,file_name):\n",
    "    data= pd.read_csv(os.path.join(base_data_path,file_list[file_number]),sep='\\t',header=-1)\n",
    "    data.columns = ['%s_label'%file_name,'%s_prob'%file_name]\n",
    "    return data"
   ]
  },
  {
   "cell_type": "code",
   "execution_count": 111,
   "metadata": {},
   "outputs": [],
   "source": [
    "data1 = load_data(1,'data1')\n",
    "data2 = load_data(2,'data2')\n",
    "data3 = load_data(3,'data3')\n",
    "data4 = load_data(4,'data4')\n",
    "data5 = load_data(5,'data5')\n",
    "data6 = load_data(6,'data6')\n",
    "data7 = load_data(7,'data7')\n",
    "data8 = load_data(8,'data8')\n",
    "data9 = load_data(9,'data9')"
   ]
  },
  {
   "cell_type": "code",
   "execution_count": 112,
   "metadata": {},
   "outputs": [],
   "source": [
    "data_combine = pd.concat([eval('data%d'%i) for i in range(1,10)],axis=1)"
   ]
  },
  {
   "cell_type": "code",
   "execution_count": 113,
   "metadata": {},
   "outputs": [],
   "source": [
    "data_combine['label_list_all'] = data_combine[[i for i in data_combine.columns if 'label' in i]].apply(lambda s :tuple(s),axis=1)\n",
    "data_combine['prob_list_all'] = data_combine[[i for i in data_combine.columns if 'prob' in i]].apply(lambda s :tuple(s),axis=1)"
   ]
  },
  {
   "cell_type": "code",
   "execution_count": 114,
   "metadata": {},
   "outputs": [],
   "source": [
    "data_combine['target']= list(map(lambda x,y:strategy5_1(x,y),data_combine['label_list_all'],data_combine['prob_list_all']))"
   ]
  },
  {
   "cell_type": "code",
   "execution_count": 115,
   "metadata": {},
   "outputs": [],
   "source": [
    "data_combine['target_label'] = data_combine['target'].apply(lambda s: s[0])\n",
    "data_combine['target_prob'] = data_combine['target'].apply(lambda s: s[1])"
   ]
  },
  {
   "cell_type": "code",
   "execution_count": 116,
   "metadata": {},
   "outputs": [],
   "source": [
    "data_combine[['target_label','target_prob']].to_csv('./init_rdc_data/topN_data/TOP10_fushion_9models.tsv',index=False,sep='\\t',header=None)"
   ]
  },
  {
   "cell_type": "code",
   "execution_count": null,
   "metadata": {},
   "outputs": [],
   "source": []
  },
  {
   "cell_type": "code",
   "execution_count": null,
   "metadata": {},
   "outputs": [],
   "source": []
  },
  {
   "cell_type": "code",
   "execution_count": null,
   "metadata": {},
   "outputs": [],
   "source": []
  },
  {
   "cell_type": "code",
   "execution_count": null,
   "metadata": {},
   "outputs": [],
   "source": [
    "data_train = pd.read_csv('./init_rdc_data/rdc-catalog-train.tsv',sep='\\t',header=-1)"
   ]
  },
  {
   "cell_type": "code",
   "execution_count": null,
   "metadata": {},
   "outputs": [],
   "source": [
    "classes = data_train.iloc[:,1].unique().tolist()"
   ]
  },
  {
   "cell_type": "code",
   "execution_count": 85,
   "metadata": {},
   "outputs": [],
   "source": [
    "#预测分类不在原始样本分类的情况\n",
    "data_combine['flag'] = data_combine['target_label'].apply(lambda s: 0 if s in classes else 1)"
   ]
  },
  {
   "cell_type": "code",
   "execution_count": 86,
   "metadata": {},
   "outputs": [
    {
     "data": {
      "text/plain": [
       "0    194775\n",
       "1      5225\n",
       "Name: flag, dtype: int64"
      ]
     },
     "execution_count": 86,
     "metadata": {},
     "output_type": "execute_result"
    }
   ],
   "source": [
    "data_combine.flag.value_counts()"
   ]
  }
 ],
 "metadata": {
  "kernelspec": {
   "display_name": "Python 3",
   "language": "python",
   "name": "python3"
  },
  "language_info": {
   "codemirror_mode": {
    "name": "ipython",
    "version": 3
   },
   "file_extension": ".py",
   "mimetype": "text/x-python",
   "name": "python",
   "nbconvert_exporter": "python",
   "pygments_lexer": "ipython3",
   "version": "3.6.5"
  }
 },
 "nbformat": 4,
 "nbformat_minor": 2
}
