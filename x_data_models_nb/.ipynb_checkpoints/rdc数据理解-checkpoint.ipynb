{
 "cells": [
  {
   "cell_type": "code",
   "execution_count": 86,
   "metadata": {},
   "outputs": [],
   "source": [
    "import pandas as pd \n",
    "import seaborn as sns\n",
    "import matplotlib.pyplot as plt\n",
    "import numpy as np"
   ]
  },
  {
   "cell_type": "code",
   "execution_count": 87,
   "metadata": {},
   "outputs": [],
   "source": [
    "data_train_path='./init_rdc_data/rdc-catalog-train.tsv'"
   ]
  },
  {
   "cell_type": "code",
   "execution_count": 88,
   "metadata": {},
   "outputs": [],
   "source": [
    "data_test_path='./init_rdc_data/rdc-catalog-test.tsv'"
   ]
  },
  {
   "cell_type": "code",
   "execution_count": 89,
   "metadata": {},
   "outputs": [],
   "source": [
    "%matplotlib inline"
   ]
  },
  {
   "cell_type": "code",
   "execution_count": 90,
   "metadata": {},
   "outputs": [],
   "source": [
    "data_train = pd.read_csv(data_train_path,sep='\\t',header=-1)"
   ]
  },
  {
   "cell_type": "code",
   "execution_count": 91,
   "metadata": {},
   "outputs": [
    {
     "data": {
      "text/html": [
       "<div>\n",
       "<style scoped>\n",
       "    .dataframe tbody tr th:only-of-type {\n",
       "        vertical-align: middle;\n",
       "    }\n",
       "\n",
       "    .dataframe tbody tr th {\n",
       "        vertical-align: top;\n",
       "    }\n",
       "\n",
       "    .dataframe thead th {\n",
       "        text-align: right;\n",
       "    }\n",
       "</style>\n",
       "<table border=\"1\" class=\"dataframe\">\n",
       "  <thead>\n",
       "    <tr style=\"text-align: right;\">\n",
       "      <th></th>\n",
       "      <th>0</th>\n",
       "      <th>1</th>\n",
       "    </tr>\n",
       "  </thead>\n",
       "  <tbody>\n",
       "    <tr>\n",
       "      <th>0</th>\n",
       "      <td>Replacement Viewsonic VG710 LCD Monitor 48Watt...</td>\n",
       "      <td>3292&gt;114&gt;1231</td>\n",
       "    </tr>\n",
       "    <tr>\n",
       "      <th>1</th>\n",
       "      <td>HP COMPAQ Pavilion DV6-1410EZ 4400mAh 48Wh 6 C...</td>\n",
       "      <td>3292&gt;1370&gt;4767&gt;3975&gt;1420</td>\n",
       "    </tr>\n",
       "  </tbody>\n",
       "</table>\n",
       "</div>"
      ],
      "text/plain": [
       "                                                   0                         1\n",
       "0  Replacement Viewsonic VG710 LCD Monitor 48Watt...             3292>114>1231\n",
       "1  HP COMPAQ Pavilion DV6-1410EZ 4400mAh 48Wh 6 C...  3292>1370>4767>3975>1420"
      ]
     },
     "execution_count": 91,
     "metadata": {},
     "output_type": "execute_result"
    }
   ],
   "source": [
    "data_train.head(2)"
   ]
  },
  {
   "cell_type": "code",
   "execution_count": 92,
   "metadata": {},
   "outputs": [],
   "source": [
    "data_test = pd.read_csv(data_test_path,sep='\\t',header=-1)"
   ]
  },
  {
   "cell_type": "code",
   "execution_count": 93,
   "metadata": {},
   "outputs": [
    {
     "data": {
      "text/html": [
       "<div>\n",
       "<style scoped>\n",
       "    .dataframe tbody tr th:only-of-type {\n",
       "        vertical-align: middle;\n",
       "    }\n",
       "\n",
       "    .dataframe tbody tr th {\n",
       "        vertical-align: top;\n",
       "    }\n",
       "\n",
       "    .dataframe thead th {\n",
       "        text-align: right;\n",
       "    }\n",
       "</style>\n",
       "<table border=\"1\" class=\"dataframe\">\n",
       "  <thead>\n",
       "    <tr style=\"text-align: right;\">\n",
       "      <th></th>\n",
       "      <th>0</th>\n",
       "      <th>1</th>\n",
       "    </tr>\n",
       "  </thead>\n",
       "  <tbody>\n",
       "    <tr>\n",
       "      <th>0</th>\n",
       "      <td>Replacement Viewsonic VG710 LCD Monitor 48Watt...</td>\n",
       "      <td>3292&gt;114&gt;1231</td>\n",
       "    </tr>\n",
       "    <tr>\n",
       "      <th>1</th>\n",
       "      <td>HP COMPAQ Pavilion DV6-1410EZ 4400mAh 48Wh 6 C...</td>\n",
       "      <td>3292&gt;1370&gt;4767&gt;3975&gt;1420</td>\n",
       "    </tr>\n",
       "  </tbody>\n",
       "</table>\n",
       "</div>"
      ],
      "text/plain": [
       "                                                   0                         1\n",
       "0  Replacement Viewsonic VG710 LCD Monitor 48Watt...             3292>114>1231\n",
       "1  HP COMPAQ Pavilion DV6-1410EZ 4400mAh 48Wh 6 C...  3292>1370>4767>3975>1420"
      ]
     },
     "execution_count": 93,
     "metadata": {},
     "output_type": "execute_result"
    }
   ],
   "source": [
    "data_train.head(2)"
   ]
  },
  {
   "cell_type": "code",
   "execution_count": 94,
   "metadata": {},
   "outputs": [
    {
     "data": {
      "text/plain": [
       "(800000, 2)"
      ]
     },
     "execution_count": 94,
     "metadata": {},
     "output_type": "execute_result"
    }
   ],
   "source": [
    "data_train.shape"
   ]
  },
  {
   "cell_type": "code",
   "execution_count": 95,
   "metadata": {},
   "outputs": [
    {
     "data": {
      "text/plain": [
       "(200000, 1)"
      ]
     },
     "execution_count": 95,
     "metadata": {},
     "output_type": "execute_result"
    }
   ],
   "source": [
    "data_test.shape"
   ]
  },
  {
   "cell_type": "code",
   "execution_count": 96,
   "metadata": {},
   "outputs": [],
   "source": [
    "data_train['lenth'] = data_train.iloc[:,0].apply(lambda s: len(s.split(' ')))"
   ]
  },
  {
   "cell_type": "code",
   "execution_count": 97,
   "metadata": {},
   "outputs": [],
   "source": [
    "data_test['lenth'] = data_train.iloc[:,0].apply(lambda s : len(s.split(' ')))"
   ]
  },
  {
   "cell_type": "code",
   "execution_count": 98,
   "metadata": {},
   "outputs": [],
   "source": [
    "data_train['label_lenth'] = data_train.iloc[:,1].apply(lambda s: len(s.split('>')))"
   ]
  },
  {
   "cell_type": "code",
   "execution_count": 99,
   "metadata": {},
   "outputs": [
    {
     "data": {
      "text/html": [
       "<div>\n",
       "<style scoped>\n",
       "    .dataframe tbody tr th:only-of-type {\n",
       "        vertical-align: middle;\n",
       "    }\n",
       "\n",
       "    .dataframe tbody tr th {\n",
       "        vertical-align: top;\n",
       "    }\n",
       "\n",
       "    .dataframe thead th {\n",
       "        text-align: right;\n",
       "    }\n",
       "</style>\n",
       "<table border=\"1\" class=\"dataframe\">\n",
       "  <thead>\n",
       "    <tr style=\"text-align: right;\">\n",
       "      <th></th>\n",
       "      <th>0</th>\n",
       "      <th>1</th>\n",
       "      <th>lenth</th>\n",
       "      <th>label_lenth</th>\n",
       "    </tr>\n",
       "  </thead>\n",
       "  <tbody>\n",
       "    <tr>\n",
       "      <th>0</th>\n",
       "      <td>Replacement Viewsonic VG710 LCD Monitor 48Watt...</td>\n",
       "      <td>3292&gt;114&gt;1231</td>\n",
       "      <td>10</td>\n",
       "      <td>3</td>\n",
       "    </tr>\n",
       "    <tr>\n",
       "      <th>1</th>\n",
       "      <td>HP COMPAQ Pavilion DV6-1410EZ 4400mAh 48Wh 6 C...</td>\n",
       "      <td>3292&gt;1370&gt;4767&gt;3975&gt;1420</td>\n",
       "      <td>13</td>\n",
       "      <td>5</td>\n",
       "    </tr>\n",
       "  </tbody>\n",
       "</table>\n",
       "</div>"
      ],
      "text/plain": [
       "                                                   0  \\\n",
       "0  Replacement Viewsonic VG710 LCD Monitor 48Watt...   \n",
       "1  HP COMPAQ Pavilion DV6-1410EZ 4400mAh 48Wh 6 C...   \n",
       "\n",
       "                          1  lenth  label_lenth  \n",
       "0             3292>114>1231     10            3  \n",
       "1  3292>1370>4767>3975>1420     13            5  "
      ]
     },
     "execution_count": 99,
     "metadata": {},
     "output_type": "execute_result"
    }
   ],
   "source": [
    "data_train.head(2)"
   ]
  },
  {
   "cell_type": "code",
   "execution_count": 100,
   "metadata": {},
   "outputs": [
    {
     "data": {
      "text/html": [
       "<div>\n",
       "<style scoped>\n",
       "    .dataframe tbody tr th:only-of-type {\n",
       "        vertical-align: middle;\n",
       "    }\n",
       "\n",
       "    .dataframe tbody tr th {\n",
       "        vertical-align: top;\n",
       "    }\n",
       "\n",
       "    .dataframe thead th {\n",
       "        text-align: right;\n",
       "    }\n",
       "</style>\n",
       "<table border=\"1\" class=\"dataframe\">\n",
       "  <thead>\n",
       "    <tr style=\"text-align: right;\">\n",
       "      <th></th>\n",
       "      <th>0</th>\n",
       "      <th>lenth</th>\n",
       "    </tr>\n",
       "  </thead>\n",
       "  <tbody>\n",
       "    <tr>\n",
       "      <th>0</th>\n",
       "      <td>Sterling Silver Dangle Ball Earrings w/ Brilli...</td>\n",
       "      <td>10</td>\n",
       "    </tr>\n",
       "    <tr>\n",
       "      <th>1</th>\n",
       "      <td>ALTERNATOR FREIGHTLINER FL FLC 112 120 FLD 112...</td>\n",
       "      <td>13</td>\n",
       "    </tr>\n",
       "  </tbody>\n",
       "</table>\n",
       "</div>"
      ],
      "text/plain": [
       "                                                   0  lenth\n",
       "0  Sterling Silver Dangle Ball Earrings w/ Brilli...     10\n",
       "1  ALTERNATOR FREIGHTLINER FL FLC 112 120 FLD 112...     13"
      ]
     },
     "execution_count": 100,
     "metadata": {},
     "output_type": "execute_result"
    }
   ],
   "source": [
    "data_test.head(2)"
   ]
  },
  {
   "cell_type": "code",
   "execution_count": 101,
   "metadata": {},
   "outputs": [],
   "source": [
    "data_train['label_list']= data_train.iloc[:,1].apply(lambda s : s.split('>'))"
   ]
  },
  {
   "cell_type": "code",
   "execution_count": 102,
   "metadata": {},
   "outputs": [],
   "source": [
    "def return_label(x,k):\n",
    "    try:\n",
    "        return x[k]\n",
    "    except:\n",
    "        return np.nan"
   ]
  },
  {
   "cell_type": "code",
   "execution_count": 103,
   "metadata": {},
   "outputs": [],
   "source": [
    "for i in range(8):\n",
    "    data_train['label_%d'%i]= data_train['label_list'].apply(lambda s :return_label(s,i))"
   ]
  },
  {
   "cell_type": "code",
   "execution_count": 104,
   "metadata": {},
   "outputs": [
    {
     "data": {
      "text/html": [
       "<div>\n",
       "<style scoped>\n",
       "    .dataframe tbody tr th:only-of-type {\n",
       "        vertical-align: middle;\n",
       "    }\n",
       "\n",
       "    .dataframe tbody tr th {\n",
       "        vertical-align: top;\n",
       "    }\n",
       "\n",
       "    .dataframe thead th {\n",
       "        text-align: right;\n",
       "    }\n",
       "</style>\n",
       "<table border=\"1\" class=\"dataframe\">\n",
       "  <thead>\n",
       "    <tr style=\"text-align: right;\">\n",
       "      <th></th>\n",
       "      <th>0</th>\n",
       "      <th>1</th>\n",
       "      <th>lenth</th>\n",
       "      <th>label_lenth</th>\n",
       "      <th>label_list</th>\n",
       "      <th>label_0</th>\n",
       "      <th>label_1</th>\n",
       "      <th>label_2</th>\n",
       "      <th>label_3</th>\n",
       "      <th>label_4</th>\n",
       "      <th>label_5</th>\n",
       "      <th>label_6</th>\n",
       "      <th>label_7</th>\n",
       "    </tr>\n",
       "  </thead>\n",
       "  <tbody>\n",
       "    <tr>\n",
       "      <th>0</th>\n",
       "      <td>Replacement Viewsonic VG710 LCD Monitor 48Watt...</td>\n",
       "      <td>3292&gt;114&gt;1231</td>\n",
       "      <td>10</td>\n",
       "      <td>3</td>\n",
       "      <td>[3292, 114, 1231]</td>\n",
       "      <td>3292</td>\n",
       "      <td>114</td>\n",
       "      <td>1231</td>\n",
       "      <td>NaN</td>\n",
       "      <td>NaN</td>\n",
       "      <td>NaN</td>\n",
       "      <td>NaN</td>\n",
       "      <td>NaN</td>\n",
       "    </tr>\n",
       "    <tr>\n",
       "      <th>1</th>\n",
       "      <td>HP COMPAQ Pavilion DV6-1410EZ 4400mAh 48Wh 6 C...</td>\n",
       "      <td>3292&gt;1370&gt;4767&gt;3975&gt;1420</td>\n",
       "      <td>13</td>\n",
       "      <td>5</td>\n",
       "      <td>[3292, 1370, 4767, 3975, 1420]</td>\n",
       "      <td>3292</td>\n",
       "      <td>1370</td>\n",
       "      <td>4767</td>\n",
       "      <td>3975</td>\n",
       "      <td>1420</td>\n",
       "      <td>NaN</td>\n",
       "      <td>NaN</td>\n",
       "      <td>NaN</td>\n",
       "    </tr>\n",
       "  </tbody>\n",
       "</table>\n",
       "</div>"
      ],
      "text/plain": [
       "                                                   0  \\\n",
       "0  Replacement Viewsonic VG710 LCD Monitor 48Watt...   \n",
       "1  HP COMPAQ Pavilion DV6-1410EZ 4400mAh 48Wh 6 C...   \n",
       "\n",
       "                          1  lenth  label_lenth  \\\n",
       "0             3292>114>1231     10            3   \n",
       "1  3292>1370>4767>3975>1420     13            5   \n",
       "\n",
       "                       label_list label_0 label_1 label_2 label_3 label_4  \\\n",
       "0               [3292, 114, 1231]    3292     114    1231     NaN     NaN   \n",
       "1  [3292, 1370, 4767, 3975, 1420]    3292    1370    4767    3975    1420   \n",
       "\n",
       "  label_5 label_6 label_7  \n",
       "0     NaN     NaN     NaN  \n",
       "1     NaN     NaN     NaN  "
      ]
     },
     "execution_count": 104,
     "metadata": {},
     "output_type": "execute_result"
    }
   ],
   "source": [
    "data_train.head(2)"
   ]
  },
  {
   "cell_type": "code",
   "execution_count": 1,
   "metadata": {},
   "outputs": [],
   "source": [
    "plt.figure(figsize=(16,8))\n",
    "\n",
    "plt.subplot(2,3,1)\n",
    "plt.bar(left = [0,1],height =[800000,200000],width=0.5)\n",
    "plt.xticks((0,1),('train','test'))\n",
    "plt.xlabel('(a)Histogram of data volume between training set and test set ')\n",
    "plt.ylabel('Quantity of titles')\n",
    "\n",
    "plt.subplot(2,3,2)\n",
    "sns.distplot(data_train['lenth'])\n",
    "plt.xlabel('(b)Word number distribution of title in training dataset')\n",
    "plt.ylabel('Probability')\n",
    "\n",
    "plt.subplot(2,3,3)\n",
    "sns.distplot(data_test['lenth'])\n",
    "plt.xlabel('(c)Word number distribution of title in test dataset')\n",
    "plt.ylabel('Probability')\n",
    "\n",
    "plt.subplot(2,3,4)\n",
    "data_train.iloc[:,1].value_counts().plot()\n",
    "plt.xlabel('(d)Distribution of different product categorys')\n",
    "plt.ylabel('Quantity of titles')\n",
    "\n",
    "plt.subplot(2,3,5)\n",
    "sns.countplot(data_train['label_lenth'],color='lightblue')\n",
    "plt.xlabel('(e)Distribution of product quantity in different levels')\n",
    "plt.ylabel('Quantity of titles')\n",
    "\n",
    "\n",
    "plt.subplot(2,3,6)\n",
    "plt.bar(left = range(8),height =stastic_list,width=0.5)\n",
    "plt.xticks(range(8),['levels%d'%i for i in range(1,8+1)],rotation=15)\n",
    "plt.xlabel('(f)The number of subordinate categories of different commodity levels')\n",
    "plt.ylabel('Quantity of species')\n",
    "\n",
    "\n",
    "plt.savefig('data_understanding.png')\n",
    "# plt.xlabel(rotation=10)|"
   ]
  },
  {
   "cell_type": "code",
   "execution_count": null,
   "metadata": {},
   "outputs": [],
   "source": [
    "#end"
   ]
  },
  {
   "cell_type": "code",
   "execution_count": null,
   "metadata": {},
   "outputs": [],
   "source": []
  },
  {
   "cell_type": "code",
   "execution_count": null,
   "metadata": {},
   "outputs": [],
   "source": []
  },
  {
   "cell_type": "code",
   "execution_count": 113,
   "metadata": {},
   "outputs": [],
   "source": [
    "stastic_list = [len(set(data_train['label_%d'%i].unique())-set([np.nan])) for i in range(8)]"
   ]
  },
  {
   "cell_type": "code",
   "execution_count": 114,
   "metadata": {},
   "outputs": [
    {
     "data": {
      "text/plain": [
       "[14, 108, 865, 1573, 752, 232, 148, 3]"
      ]
     },
     "execution_count": 114,
     "metadata": {},
     "output_type": "execute_result"
    }
   ],
   "source": [
    "stastic_list"
   ]
  },
  {
   "cell_type": "code",
   "execution_count": 115,
   "metadata": {},
   "outputs": [],
   "source": [
    "# 绘制帕累托图"
   ]
  },
  {
   "cell_type": "code",
   "execution_count": 116,
   "metadata": {},
   "outputs": [],
   "source": [
    "AAA =data_train.pivot_table(index='label_lenth',aggfunc={'lenth':'count'}).sort_values('lenth',ascending=False).reset_index()"
   ]
  },
  {
   "cell_type": "code",
   "execution_count": 117,
   "metadata": {},
   "outputs": [],
   "source": [
    "AAA['cumsum']=AAA['lenth'].cumsum()"
   ]
  },
  {
   "cell_type": "code",
   "execution_count": 118,
   "metadata": {},
   "outputs": [],
   "source": [
    "AAA['rate']=AAA['cumsum']/800000"
   ]
  },
  {
   "cell_type": "code",
   "execution_count": 119,
   "metadata": {},
   "outputs": [
    {
     "data": {
      "text/plain": [
       "<BarContainer object of 8 artists>"
      ]
     },
     "execution_count": 119,
     "metadata": {},
     "output_type": "execute_result"
    },
    {
     "data": {
      "image/png": "[encoded data removed]",
      "text/plain": [
       "<Figure size 432x288 with 2 Axes>"
      ]
     },
     "metadata": {},
     "output_type": "display_data"
    }
   ],
   "source": [
    "fig, ax1 = plt.subplots() \n",
    "plt.xticks(range(8),['first %d groups'%i for i in range(1,9)],rotation=15)\n",
    "ax2=ax1.twinx()\n",
    "ax1.plot(AAA['rate'])\n",
    "ax2.bar(x=range(0,8),height=AAA['lenth'])\n"
   ]
  },
  {
   "cell_type": "code",
   "execution_count": 120,
   "metadata": {},
   "outputs": [
    {
     "data": {
      "text/plain": [
       "<matplotlib.axes._subplots.AxesSubplot at 0x113568be0>"
      ]
     },
     "execution_count": 120,
     "metadata": {},
     "output_type": "execute_result"
    },
    {
     "data": {
      "image/png": "[encoded data removed]",
      "text/plain": [
       "<Figure size 432x288 with 1 Axes>"
      ]
     },
     "metadata": {},
     "output_type": "display_data"
    }
   ],
   "source": [
    "AAA['rate'].plot()"
   ]
  },
  {
   "cell_type": "code",
   "execution_count": 2,
   "metadata": {},
   "outputs": [],
   "source": [
    "plt.bar(left = range(1,8+1),height=AAA['lenth'])\n",
    "plt.plot(x=range(1,8+1),y=AAA['rate'])\n",
    "AAA['rate'].plot()"
   ]
  },
  {
   "cell_type": "code",
   "execution_count": 122,
   "metadata": {},
   "outputs": [
    {
     "data": {
      "text/html": [
       "<div>\n",
       "<style scoped>\n",
       "    .dataframe tbody tr th:only-of-type {\n",
       "        vertical-align: middle;\n",
       "    }\n",
       "\n",
       "    .dataframe tbody tr th {\n",
       "        vertical-align: top;\n",
       "    }\n",
       "\n",
       "    .dataframe thead th {\n",
       "        text-align: right;\n",
       "    }\n",
       "</style>\n",
       "<table border=\"1\" class=\"dataframe\">\n",
       "  <thead>\n",
       "    <tr style=\"text-align: right;\">\n",
       "      <th></th>\n",
       "      <th>label_lenth</th>\n",
       "      <th>lenth</th>\n",
       "      <th>cumsum</th>\n",
       "      <th>rate</th>\n",
       "    </tr>\n",
       "  </thead>\n",
       "  <tbody>\n",
       "    <tr>\n",
       "      <th>0</th>\n",
       "      <td>4</td>\n",
       "      <td>344472</td>\n",
       "      <td>344472</td>\n",
       "      <td>0.430590</td>\n",
       "    </tr>\n",
       "    <tr>\n",
       "      <th>1</th>\n",
       "      <td>3</td>\n",
       "      <td>228888</td>\n",
       "      <td>573360</td>\n",
       "      <td>0.716700</td>\n",
       "    </tr>\n",
       "    <tr>\n",
       "      <th>2</th>\n",
       "      <td>5</td>\n",
       "      <td>166165</td>\n",
       "      <td>739525</td>\n",
       "      <td>0.924406</td>\n",
       "    </tr>\n",
       "    <tr>\n",
       "      <th>3</th>\n",
       "      <td>6</td>\n",
       "      <td>45253</td>\n",
       "      <td>784778</td>\n",
       "      <td>0.980973</td>\n",
       "    </tr>\n",
       "    <tr>\n",
       "      <th>4</th>\n",
       "      <td>1</td>\n",
       "      <td>8172</td>\n",
       "      <td>792950</td>\n",
       "      <td>0.991187</td>\n",
       "    </tr>\n",
       "    <tr>\n",
       "      <th>5</th>\n",
       "      <td>7</td>\n",
       "      <td>4197</td>\n",
       "      <td>797147</td>\n",
       "      <td>0.996434</td>\n",
       "    </tr>\n",
       "    <tr>\n",
       "      <th>6</th>\n",
       "      <td>2</td>\n",
       "      <td>2792</td>\n",
       "      <td>799939</td>\n",
       "      <td>0.999924</td>\n",
       "    </tr>\n",
       "    <tr>\n",
       "      <th>7</th>\n",
       "      <td>8</td>\n",
       "      <td>61</td>\n",
       "      <td>800000</td>\n",
       "      <td>1.000000</td>\n",
       "    </tr>\n",
       "  </tbody>\n",
       "</table>\n",
       "</div>"
      ],
      "text/plain": [
       "   label_lenth   lenth  cumsum      rate\n",
       "0            4  344472  344472  0.430590\n",
       "1            3  228888  573360  0.716700\n",
       "2            5  166165  739525  0.924406\n",
       "3            6   45253  784778  0.980973\n",
       "4            1    8172  792950  0.991187\n",
       "5            7    4197  797147  0.996434\n",
       "6            2    2792  799939  0.999924\n",
       "7            8      61  800000  1.000000"
      ]
     },
     "execution_count": 122,
     "metadata": {},
     "output_type": "execute_result"
    }
   ],
   "source": [
    "AAA"
   ]
  },
  {
   "cell_type": "code",
   "execution_count": 123,
   "metadata": {},
   "outputs": [],
   "source": [
    "plt.rc('font',family='Times New Roman')"
   ]
  },
  {
   "cell_type": "code",
   "execution_count": 56,
   "metadata": {},
   "outputs": [],
   "source": [
    "?plt.title()"
   ]
  },
  {
   "cell_type": "code",
   "execution_count": 124,
   "metadata": {},
   "outputs": [
    {
     "data": {
      "text/plain": [
       "(array([-500.,    0.,  500., 1000., 1500., 2000., 2500., 3000., 3500.]),\n",
       " <a list of 9 Text xticklabel objects>)"
      ]
     },
     "execution_count": 124,
     "metadata": {},
     "output_type": "execute_result"
    },
    {
     "data": {
      "image/png": "[encoded data removed]",
      "text/plain": [
       "<Figure size 432x288 with 1 Axes>"
      ]
     },
     "metadata": {},
     "output_type": "display_data"
    }
   ],
   "source": [
    "data_train.iloc[:,1].value_counts().plot()\n",
    "plt.xticks()"
   ]
  },
  {
   "cell_type": "code",
   "execution_count": 125,
   "metadata": {},
   "outputs": [
    {
     "data": {
      "text/plain": [
       "<Figure size 1152x1152 with 0 Axes>"
      ]
     },
     "metadata": {},
     "output_type": "display_data"
    },
    {
     "data": {
      "image/png": "[encoded data removed]",
      "text/plain": [
       "<Figure size 432x288 with 2 Axes>"
      ]
     },
     "metadata": {},
     "output_type": "display_data"
    }
   ],
   "source": [
    "plt.figure(figsize=(16,16))\n",
    "fig, ax1 = plt.subplots() \n",
    "plt.xticks(range(8),['first %d groups'%i for i in range(1,9)],rotation=15)\n",
    "ax2=ax1.twinx()\n",
    "ax1.plot(AAA['rate'])\n",
    "ax1.set_ylabel('Cumulative composition ratio')\n",
    "ax2.bar(x=range(0,8),height=AAA['lenth'])\n",
    "ax2.set_ylabel('Number of titles in different product category levels')\n",
    "plt.savefig('Parato pic.png')"
   ]
  },
  {
   "cell_type": "code",
   "execution_count": null,
   "metadata": {},
   "outputs": [],
   "source": []
  },
  {
   "cell_type": "code",
   "execution_count": null,
   "metadata": {},
   "outputs": [],
   "source": []
  },
  {
   "cell_type": "code",
   "execution_count": null,
   "metadata": {},
   "outputs": [],
   "source": []
  }
 ],
 "metadata": {
  "kernelspec": {
   "display_name": "Python 3",
   "language": "python",
   "name": "python3"
  },
  "language_info": {
   "codemirror_mode": {
    "name": "ipython",
    "version": 3
   },
   "file_extension": ".py",
   "mimetype": "text/x-python",
   "name": "python",
   "nbconvert_exporter": "python",
   "pygments_lexer": "ipython3",
   "version": "3.6.5"
  }
 },
 "nbformat": 4,
 "nbformat_minor": 2
}
