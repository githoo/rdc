{
 "cells": [
  {
   "cell_type": "code",
   "execution_count": 1,
   "metadata": {},
   "outputs": [],
   "source": [
    "import pandas as pd \n",
    "import os \n",
    "from sklearn.utils import shuffle"
   ]
  },
  {
   "cell_type": "code",
   "execution_count": 2,
   "metadata": {},
   "outputs": [],
   "source": [
    "train_data_new = pd.read_csv('./init_rdc_data/rdc-catalog-train.tsv',sep='\\t',header=-1)"
   ]
  },
  {
   "cell_type": "code",
   "execution_count": 3,
   "metadata": {},
   "outputs": [],
   "source": [
    "train_data_new.columns=['title','label']"
   ]
  },
  {
   "cell_type": "code",
   "execution_count": 4,
   "metadata": {},
   "outputs": [],
   "source": [
    "train_data_new_random = shuffle(train_data_new).reset_index(drop=True)"
   ]
  },
  {
   "cell_type": "code",
   "execution_count": 5,
   "metadata": {},
   "outputs": [
    {
     "data": {
      "text/html": [
       "<div>\n",
       "<style scoped>\n",
       "    .dataframe tbody tr th:only-of-type {\n",
       "        vertical-align: middle;\n",
       "    }\n",
       "\n",
       "    .dataframe tbody tr th {\n",
       "        vertical-align: top;\n",
       "    }\n",
       "\n",
       "    .dataframe thead th {\n",
       "        text-align: right;\n",
       "    }\n",
       "</style>\n",
       "<table border=\"1\" class=\"dataframe\">\n",
       "  <thead>\n",
       "    <tr style=\"text-align: right;\">\n",
       "      <th></th>\n",
       "      <th>title</th>\n",
       "      <th>label</th>\n",
       "    </tr>\n",
       "  </thead>\n",
       "  <tbody>\n",
       "    <tr>\n",
       "      <th>0</th>\n",
       "      <td>STARTER TAKEUCHI TB180 FR TB 180 FR EXCAVATOR ...</td>\n",
       "      <td>2199&gt;4592&gt;12</td>\n",
       "    </tr>\n",
       "    <tr>\n",
       "      <th>1</th>\n",
       "      <td>Cardone Service Plus 3R-210 New Power Steering...</td>\n",
       "      <td>2199&gt;4592&gt;12</td>\n",
       "    </tr>\n",
       "  </tbody>\n",
       "</table>\n",
       "</div>"
      ],
      "text/plain": [
       "                                               title         label\n",
       "0  STARTER TAKEUCHI TB180 FR TB 180 FR EXCAVATOR ...  2199>4592>12\n",
       "1  Cardone Service Plus 3R-210 New Power Steering...  2199>4592>12"
      ]
     },
     "execution_count": 5,
     "metadata": {},
     "output_type": "execute_result"
    }
   ],
   "source": [
    "train_data_new_random.head(2)"
   ]
  },
  {
   "cell_type": "code",
   "execution_count": 6,
   "metadata": {},
   "outputs": [],
   "source": [
    "#按标签层级拆分数据\n",
    "def tree_target(label,number,sp):\n",
    "    label_split = label.split('>')\n",
    "    label_split_length = len(label_split)\n",
    "    if sp==True:\n",
    "        if number>label_split_length:\n",
    "            return ''\n",
    "        else:\n",
    "            return '>'.join(label_split[:number])\n",
    "    else:\n",
    "        if number>label_split_length:\n",
    "            return ''\n",
    "        else:\n",
    "            return label_split[number-1]"
   ]
  },
  {
   "cell_type": "code",
   "execution_count": 7,
   "metadata": {},
   "outputs": [],
   "source": [
    "#层级树\n",
    "level_tree_data = train_data_new_random[['title','label']]"
   ]
  },
  {
   "cell_type": "code",
   "execution_count": 8,
   "metadata": {},
   "outputs": [],
   "source": [
    "#上层短路径树\n",
    "sp_tree_data =train_data_new_random[['title','label']]\n"
   ]
  },
  {
   "cell_type": "code",
   "execution_count": 9,
   "metadata": {},
   "outputs": [
    {
     "name": "stdout",
     "output_type": "stream",
     "text": [
      "1: (800000, 2)\n",
      "2: (791828, 2)\n",
      "3: (789036, 2)\n",
      "4: (560148, 2)\n",
      "5: (215676, 2)\n",
      "6: (49511, 2)\n",
      "7: (4258, 2)\n",
      "8: (61, 2)\n"
     ]
    }
   ],
   "source": [
    "for i in range(1,9):\n",
    "    level_tree_data['level_label%d'%i] = level_tree_data['label'].apply(lambda s:tree_target(s,i,False))\n",
    "    tmp = level_tree_data[['level_label%d'%i,'title']]\n",
    "    tmp = tmp[tmp['level_label%d'%i]!='']\n",
    "    print('%d:'%i,tmp.shape)\n",
    "    tmp.to_csv('./init_rdc_data/tree_data/level-tree/rdc_train_level_tree_level%d.tsv'%i,sep='\\t',header=None,index=False)"
   ]
  },
  {
   "cell_type": "code",
   "execution_count": 25,
   "metadata": {
    "scrolled": true
   },
   "outputs": [
    {
     "name": "stdout",
     "output_type": "stream",
     "text": [
      "1: (800000, 2)\n",
      "2: (791828, 2)\n",
      "3: (789036, 2)\n",
      "4: (560148, 2)\n",
      "5: (215676, 2)\n",
      "6: (49511, 2)\n",
      "7: (4258, 2)\n",
      "8: (61, 2)\n"
     ]
    }
   ],
   "source": [
    "for i in range(1,9):\n",
    "    sp_tree_data['sp_label%d'%i] = sp_tree_data['label'].apply(lambda s:tree_target(s,i,True))\n",
    "    tmp =sp_tree_data[['sp_label%d'%i,'title']]\n",
    "    tmp = tmp[tmp['sp_label%d'%i]!='']\n",
    "    print('%d:'%i,tmp.shape)\n",
    "    tmp.to_csv('./init_rdc_data/tree_data/sp-tree/rdc_train_sp_tree_level%d.tsv'%i,sep='\\t',header=None,index=False)"
   ]
  },
  {
   "cell_type": "code",
   "execution_count": 26,
   "metadata": {},
   "outputs": [
    {
     "data": {
      "text/plain": [
       "'1370'"
      ]
     },
     "execution_count": 26,
     "metadata": {},
     "output_type": "execute_result"
    }
   ],
   "source": [
    "tree_target('3292>1370>4767>2678>444',2,False)"
   ]
  },
  {
   "cell_type": "code",
   "execution_count": 27,
   "metadata": {},
   "outputs": [
    {
     "data": {
      "text/plain": [
       "'3292>1370'"
      ]
     },
     "execution_count": 27,
     "metadata": {},
     "output_type": "execute_result"
    }
   ],
   "source": [
    "tree_target('3292>1370>4767>2678>444',2,True)"
   ]
  },
  {
   "cell_type": "code",
   "execution_count": null,
   "metadata": {},
   "outputs": [],
   "source": []
  }
 ],
 "metadata": {
  "kernelspec": {
   "display_name": "Python 3",
   "language": "python",
   "name": "python3"
  },
  "language_info": {
   "codemirror_mode": {
    "name": "ipython",
    "version": 3
   },
   "file_extension": ".py",
   "mimetype": "text/x-python",
   "name": "python",
   "nbconvert_exporter": "python",
   "pygments_lexer": "ipython3",
   "version": "3.6.5"
  }
 },
 "nbformat": 4,
 "nbformat_minor": 2
}
