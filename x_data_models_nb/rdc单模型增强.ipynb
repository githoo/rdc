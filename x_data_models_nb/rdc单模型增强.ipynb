{
 "cells": [
  {
   "cell_type": "code",
   "execution_count": 116,
   "metadata": {},
   "outputs": [],
   "source": [
    "from imp import reload"
   ]
  },
  {
   "cell_type": "code",
   "execution_count": 117,
   "metadata": {},
   "outputs": [],
   "source": [
    "import strategy"
   ]
  },
  {
   "cell_type": "code",
   "execution_count": 1,
   "metadata": {},
   "outputs": [],
   "source": [
    "reload(strategy)"
   ]
  },
  {
   "cell_type": "code",
   "execution_count": 119,
   "metadata": {},
   "outputs": [],
   "source": [
    "from strategy import strategy5_1_list,list_data,flatten,strategy5_1\n",
    "import os \n",
    "import pandas as pd "
   ]
  },
  {
   "cell_type": "code",
   "execution_count": 2,
   "metadata": {},
   "outputs": [],
   "source": [
    "os.getcwd()"
   ]
  },
  {
   "cell_type": "code",
   "execution_count": 121,
   "metadata": {},
   "outputs": [],
   "source": [
    "data_path = './init_rdc_data//topN_data/ablstm_one/'"
   ]
  },
  {
   "cell_type": "code",
   "execution_count": 122,
   "metadata": {},
   "outputs": [],
   "source": [
    "file_list = sorted(os.listdir(data_path))"
   ]
  },
  {
   "cell_type": "code",
   "execution_count": 3,
   "metadata": {},
   "outputs": [],
   "source": [
    "file_list"
   ]
  },
  {
   "cell_type": "code",
   "execution_count": 124,
   "metadata": {},
   "outputs": [],
   "source": [
    "data0 = list_data(1,'drop0.5_25',data_path,file_list,weight=False)"
   ]
  },
  {
   "cell_type": "code",
   "execution_count": 125,
   "metadata": {},
   "outputs": [],
   "source": [
    "data1 = list_data(2,'drop0.6_25',data_path,file_list,weight=False)"
   ]
  },
  {
   "cell_type": "code",
   "execution_count": 126,
   "metadata": {},
   "outputs": [],
   "source": [
    "data2 = list_data(3,'drop0.5_30',data_path,file_list,weight=False)"
   ]
  },
  {
   "cell_type": "code",
   "execution_count": 127,
   "metadata": {},
   "outputs": [],
   "source": [
    "data3 = list_data(4,'drop0.6_30',data_path,file_list,weight=False)"
   ]
  },
  {
   "cell_type": "code",
   "execution_count": 128,
   "metadata": {},
   "outputs": [
    {
     "data": {
      "text/html": [
       "<div>\n",
       "<style scoped>\n",
       "    .dataframe tbody tr th:only-of-type {\n",
       "        vertical-align: middle;\n",
       "    }\n",
       "\n",
       "    .dataframe tbody tr th {\n",
       "        vertical-align: top;\n",
       "    }\n",
       "\n",
       "    .dataframe thead th {\n",
       "        text-align: right;\n",
       "    }\n",
       "</style>\n",
       "<table border=\"1\" class=\"dataframe\">\n",
       "  <thead>\n",
       "    <tr style=\"text-align: right;\">\n",
       "      <th></th>\n",
       "      <th>drop0.5_25_label</th>\n",
       "      <th>drop0.5_25_prob</th>\n",
       "    </tr>\n",
       "  </thead>\n",
       "  <tbody>\n",
       "    <tr>\n",
       "      <th>0</th>\n",
       "      <td>(1608&gt;2320&gt;2173&gt;3813, 1608&gt;2320&gt;2173&gt;2878, 160...</td>\n",
       "      <td>(0.951836, 0.047402, 0.000489537, 0.000182385,...</td>\n",
       "    </tr>\n",
       "    <tr>\n",
       "      <th>1</th>\n",
       "      <td>(2199&gt;4592&gt;12, 2199&gt;661&gt;333&gt;3609, 2199&gt;4592&gt;19...</td>\n",
       "      <td>(1.0, 8.13852e-09, 2.24448e-09, 1.942230000000...</td>\n",
       "    </tr>\n",
       "  </tbody>\n",
       "</table>\n",
       "</div>"
      ],
      "text/plain": [
       "                                    drop0.5_25_label  \\\n",
       "0  (1608>2320>2173>3813, 1608>2320>2173>2878, 160...   \n",
       "1  (2199>4592>12, 2199>661>333>3609, 2199>4592>19...   \n",
       "\n",
       "                                     drop0.5_25_prob  \n",
       "0  (0.951836, 0.047402, 0.000489537, 0.000182385,...  \n",
       "1  (1.0, 8.13852e-09, 2.24448e-09, 1.942230000000...  "
      ]
     },
     "execution_count": 128,
     "metadata": {},
     "output_type": "execute_result"
    }
   ],
   "source": [
    "data0.head(2)"
   ]
  },
  {
   "cell_type": "code",
   "execution_count": 129,
   "metadata": {},
   "outputs": [],
   "source": [
    "data_combine = pd.concat([eval('data%d'%i) for i in range(4)],axis=1)"
   ]
  },
  {
   "cell_type": "code",
   "execution_count": 130,
   "metadata": {},
   "outputs": [
    {
     "data": {
      "text/html": [
       "<div>\n",
       "<style scoped>\n",
       "    .dataframe tbody tr th:only-of-type {\n",
       "        vertical-align: middle;\n",
       "    }\n",
       "\n",
       "    .dataframe tbody tr th {\n",
       "        vertical-align: top;\n",
       "    }\n",
       "\n",
       "    .dataframe thead th {\n",
       "        text-align: right;\n",
       "    }\n",
       "</style>\n",
       "<table border=\"1\" class=\"dataframe\">\n",
       "  <thead>\n",
       "    <tr style=\"text-align: right;\">\n",
       "      <th></th>\n",
       "      <th>drop0.5_25_label</th>\n",
       "      <th>drop0.5_25_prob</th>\n",
       "      <th>drop0.6_25_label</th>\n",
       "      <th>drop0.6_25_prob</th>\n",
       "      <th>drop0.5_30_label</th>\n",
       "      <th>drop0.5_30_prob</th>\n",
       "      <th>drop0.6_30_label</th>\n",
       "      <th>drop0.6_30_prob</th>\n",
       "    </tr>\n",
       "  </thead>\n",
       "  <tbody>\n",
       "    <tr>\n",
       "      <th>0</th>\n",
       "      <td>(1608&gt;2320&gt;2173&gt;3813, 1608&gt;2320&gt;2173&gt;2878, 160...</td>\n",
       "      <td>(0.951836, 0.047402, 0.000489537, 0.000182385,...</td>\n",
       "      <td>(1608&gt;2320&gt;2173&gt;3813, 1608&gt;2320&gt;2173&gt;2878, 160...</td>\n",
       "      <td>(0.6938340000000001, 0.302879, 0.00157966, 0.0...</td>\n",
       "      <td>(1608&gt;2320&gt;2173&gt;2878, 1608&gt;2320&gt;2173&gt;3813, 160...</td>\n",
       "      <td>(0.636387, 0.227429, 0.136122, 3.272e-05, 1.53...</td>\n",
       "      <td>(1608&gt;2320&gt;2173&gt;2878, 1608&gt;2320&gt;2173&gt;3813, 160...</td>\n",
       "      <td>(0.7650520000000001, 0.22361999999999999, 0.00...</td>\n",
       "    </tr>\n",
       "    <tr>\n",
       "      <th>1</th>\n",
       "      <td>(2199&gt;4592&gt;12, 2199&gt;661&gt;333&gt;3609, 2199&gt;4592&gt;19...</td>\n",
       "      <td>(1.0, 8.13852e-09, 2.24448e-09, 1.942230000000...</td>\n",
       "      <td>(2199&gt;4592&gt;12, 2199&gt;661&gt;333&gt;3609, 3292&gt;4837&gt;23...</td>\n",
       "      <td>(1.0, 3.06305e-09, 1.85527e-09, 1.09503e-09, 2...</td>\n",
       "      <td>(2199&gt;4592&gt;12, 2199&gt;4592&gt;193, 2199&gt;661&gt;333&gt;360...</td>\n",
       "      <td>(1.0, 4.2978699999999994e-08, 3.28971e-10, 3.1...</td>\n",
       "      <td>(2199&gt;4592&gt;12, 2199&gt;4592&gt;193, 2199&gt;661&gt;333&gt;360...</td>\n",
       "      <td>(1.0, 2.234e-07, 2.76803e-08, 1.36973000000000...</td>\n",
       "    </tr>\n",
       "  </tbody>\n",
       "</table>\n",
       "</div>"
      ],
      "text/plain": [
       "                                    drop0.5_25_label  \\\n",
       "0  (1608>2320>2173>3813, 1608>2320>2173>2878, 160...   \n",
       "1  (2199>4592>12, 2199>661>333>3609, 2199>4592>19...   \n",
       "\n",
       "                                     drop0.5_25_prob  \\\n",
       "0  (0.951836, 0.047402, 0.000489537, 0.000182385,...   \n",
       "1  (1.0, 8.13852e-09, 2.24448e-09, 1.942230000000...   \n",
       "\n",
       "                                    drop0.6_25_label  \\\n",
       "0  (1608>2320>2173>3813, 1608>2320>2173>2878, 160...   \n",
       "1  (2199>4592>12, 2199>661>333>3609, 3292>4837>23...   \n",
       "\n",
       "                                     drop0.6_25_prob  \\\n",
       "0  (0.6938340000000001, 0.302879, 0.00157966, 0.0...   \n",
       "1  (1.0, 3.06305e-09, 1.85527e-09, 1.09503e-09, 2...   \n",
       "\n",
       "                                    drop0.5_30_label  \\\n",
       "0  (1608>2320>2173>2878, 1608>2320>2173>3813, 160...   \n",
       "1  (2199>4592>12, 2199>4592>193, 2199>661>333>360...   \n",
       "\n",
       "                                     drop0.5_30_prob  \\\n",
       "0  (0.636387, 0.227429, 0.136122, 3.272e-05, 1.53...   \n",
       "1  (1.0, 4.2978699999999994e-08, 3.28971e-10, 3.1...   \n",
       "\n",
       "                                    drop0.6_30_label  \\\n",
       "0  (1608>2320>2173>2878, 1608>2320>2173>3813, 160...   \n",
       "1  (2199>4592>12, 2199>4592>193, 2199>661>333>360...   \n",
       "\n",
       "                                     drop0.6_30_prob  \n",
       "0  (0.7650520000000001, 0.22361999999999999, 0.00...  \n",
       "1  (1.0, 2.234e-07, 2.76803e-08, 1.36973000000000...  "
      ]
     },
     "execution_count": 130,
     "metadata": {},
     "output_type": "execute_result"
    }
   ],
   "source": [
    "data_combine.head(2)"
   ]
  },
  {
   "cell_type": "code",
   "execution_count": 131,
   "metadata": {},
   "outputs": [],
   "source": [
    "data_combine['label_list_all'] = data_combine[[i for i in data_combine.columns if 'label' in i ]].apply(lambda s:\\\n",
    "                                                                                                        tuple(s),axis=1)\n",
    "data_combine['prob_list_all'] = data_combine[[i for i in data_combine.columns if 'prob' in i ]].apply(lambda s:\\\n",
    "                                                                                                        tuple(s),axis=1)\n"
   ]
  },
  {
   "cell_type": "code",
   "execution_count": 132,
   "metadata": {},
   "outputs": [],
   "source": [
    "data_combine['label_list']=data_combine['label_list_all'].apply(lambda s:flatten(s))\n",
    "data_combine['prob_list']=data_combine['prob_list_all'].apply(lambda s: flatten(s,class_type='prob'))"
   ]
  },
  {
   "cell_type": "code",
   "execution_count": 146,
   "metadata": {},
   "outputs": [
    {
     "data": {
      "text/html": [
       "<div>\n",
       "<style scoped>\n",
       "    .dataframe tbody tr th:only-of-type {\n",
       "        vertical-align: middle;\n",
       "    }\n",
       "\n",
       "    .dataframe tbody tr th {\n",
       "        vertical-align: top;\n",
       "    }\n",
       "\n",
       "    .dataframe thead th {\n",
       "        text-align: right;\n",
       "    }\n",
       "</style>\n",
       "<table border=\"1\" class=\"dataframe\">\n",
       "  <thead>\n",
       "    <tr style=\"text-align: right;\">\n",
       "      <th></th>\n",
       "      <th>label_list_all</th>\n",
       "      <th>prob_list_all</th>\n",
       "    </tr>\n",
       "  </thead>\n",
       "  <tbody>\n",
       "    <tr>\n",
       "      <th>0</th>\n",
       "      <td>((1608&gt;2320&gt;2173&gt;3813, 1608&gt;2320&gt;2173&gt;2878, 16...</td>\n",
       "      <td>((0.951836, 0.047402, 0.000489537, 0.000182385...</td>\n",
       "    </tr>\n",
       "    <tr>\n",
       "      <th>1</th>\n",
       "      <td>((2199&gt;4592&gt;12, 2199&gt;661&gt;333&gt;3609, 2199&gt;4592&gt;1...</td>\n",
       "      <td>((1.0, 8.13852e-09, 2.24448e-09, 1.94223000000...</td>\n",
       "    </tr>\n",
       "  </tbody>\n",
       "</table>\n",
       "</div>"
      ],
      "text/plain": [
       "                                      label_list_all  \\\n",
       "0  ((1608>2320>2173>3813, 1608>2320>2173>2878, 16...   \n",
       "1  ((2199>4592>12, 2199>661>333>3609, 2199>4592>1...   \n",
       "\n",
       "                                       prob_list_all  \n",
       "0  ((0.951836, 0.047402, 0.000489537, 0.000182385...  \n",
       "1  ((1.0, 8.13852e-09, 2.24448e-09, 1.94223000000...  "
      ]
     },
     "execution_count": 146,
     "metadata": {},
     "output_type": "execute_result"
    }
   ],
   "source": [
    "data_combine[['label_list_all','prob_list_all']].head(2)"
   ]
  },
  {
   "cell_type": "code",
   "execution_count": 147,
   "metadata": {},
   "outputs": [],
   "source": [
    "data_combine['target'] = list(map(lambda x,y:strategy5_1_list(x,y),data_combine['label_list'],data_combine['prob_list']))"
   ]
  },
  {
   "cell_type": "code",
   "execution_count": 154,
   "metadata": {},
   "outputs": [
    {
     "data": {
      "text/plain": [
       "0    ([1608>2320>2173>3813, 1608>2320>2173>2878, 16...\n",
       "1    ([2199>4592>12, 2199>4592>193, 2199>661>333>36...\n",
       "2    ([2199>4592>12, 2199>4592>193, 2199>4592>708, ...\n",
       "3    ([1608>4269>3031>1221, 1608>1150>1244>615, 329...\n",
       "4    ([3292>114>1231, 3292>1370>4767>3975>1420, 329...\n",
       "Name: target, dtype: object"
      ]
     },
     "execution_count": 154,
     "metadata": {},
     "output_type": "execute_result"
    }
   ],
   "source": [
    "data_combine['target'].head()"
   ]
  },
  {
   "cell_type": "code",
   "execution_count": null,
   "metadata": {},
   "outputs": [],
   "source": [
    "data_combine['target'].to_csv('ablstm_one_4models.top10_s_5_1',sep='\\t',index=False,header=None)"
   ]
  },
  {
   "cell_type": "code",
   "execution_count": null,
   "metadata": {},
   "outputs": [],
   "source": [
    "#end"
   ]
  },
  {
   "cell_type": "code",
   "execution_count": null,
   "metadata": {},
   "outputs": [],
   "source": []
  },
  {
   "cell_type": "code",
   "execution_count": 156,
   "metadata": {},
   "outputs": [],
   "source": [
    "data_combine['target_label'] = data_combine['target'].apply(lambda s: s[0])\n",
    "data_combine['target_prob'] = data_combine['target'].apply(lambda s:s[1])"
   ]
  },
  {
   "cell_type": "code",
   "execution_count": 157,
   "metadata": {},
   "outputs": [],
   "source": [
    "Final_data = data_combine[['target_label','target_prob']]"
   ]
  },
  {
   "cell_type": "code",
   "execution_count": 161,
   "metadata": {},
   "outputs": [
    {
     "data": {
      "text/html": [
       "<div>\n",
       "<style scoped>\n",
       "    .dataframe tbody tr th:only-of-type {\n",
       "        vertical-align: middle;\n",
       "    }\n",
       "\n",
       "    .dataframe tbody tr th {\n",
       "        vertical-align: top;\n",
       "    }\n",
       "\n",
       "    .dataframe thead th {\n",
       "        text-align: right;\n",
       "    }\n",
       "</style>\n",
       "<table border=\"1\" class=\"dataframe\">\n",
       "  <thead>\n",
       "    <tr style=\"text-align: right;\">\n",
       "      <th></th>\n",
       "      <th>target_label</th>\n",
       "      <th>target_prob</th>\n",
       "      <th>target_label_str</th>\n",
       "      <th>target_prob_str</th>\n",
       "    </tr>\n",
       "  </thead>\n",
       "  <tbody>\n",
       "    <tr>\n",
       "      <th>0</th>\n",
       "      <td>[1608&gt;2320&gt;2173&gt;3813, 1608&gt;2320&gt;2173&gt;2878, 160...</td>\n",
       "      <td>[0.951836, 0.7650520000000001, 0.136122, 0.006...</td>\n",
       "      <td>['1608&gt;2320&gt;2173&gt;3813', '1608&gt;2320&gt;2173&gt;2878',...</td>\n",
       "      <td>[0.951836, 0.7650520000000001, 0.136122, 0.006...</td>\n",
       "    </tr>\n",
       "    <tr>\n",
       "      <th>1</th>\n",
       "      <td>[2199&gt;4592&gt;12, 2199&gt;4592&gt;193, 2199&gt;661&gt;333&gt;360...</td>\n",
       "      <td>[1.0, 2.234e-07, 2.76803e-08, 1.94223000000000...</td>\n",
       "      <td>['2199&gt;4592&gt;12', '2199&gt;4592&gt;193', '2199&gt;661&gt;33...</td>\n",
       "      <td>[1.0, 2.234e-07, 2.76803e-08, 1.94223000000000...</td>\n",
       "    </tr>\n",
       "  </tbody>\n",
       "</table>\n",
       "</div>"
      ],
      "text/plain": [
       "                                        target_label  \\\n",
       "0  [1608>2320>2173>3813, 1608>2320>2173>2878, 160...   \n",
       "1  [2199>4592>12, 2199>4592>193, 2199>661>333>360...   \n",
       "\n",
       "                                         target_prob  \\\n",
       "0  [0.951836, 0.7650520000000001, 0.136122, 0.006...   \n",
       "1  [1.0, 2.234e-07, 2.76803e-08, 1.94223000000000...   \n",
       "\n",
       "                                    target_label_str  \\\n",
       "0  ['1608>2320>2173>3813', '1608>2320>2173>2878',...   \n",
       "1  ['2199>4592>12', '2199>4592>193', '2199>661>33...   \n",
       "\n",
       "                                     target_prob_str  \n",
       "0  [0.951836, 0.7650520000000001, 0.136122, 0.006...  \n",
       "1  [1.0, 2.234e-07, 2.76803e-08, 1.94223000000000...  "
      ]
     },
     "execution_count": 161,
     "metadata": {},
     "output_type": "execute_result"
    }
   ],
   "source": [
    "Final_data.head(2)"
   ]
  },
  {
   "cell_type": "code",
   "execution_count": 4,
   "metadata": {},
   "outputs": [],
   "source": [
    "for i in Final_data.columns:\n",
    "    Final_data['%s_str'%i] = Final_data[i].apply(lambda s:str(s))"
   ]
  },
  {
   "cell_type": "code",
   "execution_count": 163,
   "metadata": {},
   "outputs": [
    {
     "data": {
      "text/html": [
       "<div>\n",
       "<style scoped>\n",
       "    .dataframe tbody tr th:only-of-type {\n",
       "        vertical-align: middle;\n",
       "    }\n",
       "\n",
       "    .dataframe tbody tr th {\n",
       "        vertical-align: top;\n",
       "    }\n",
       "\n",
       "    .dataframe thead th {\n",
       "        text-align: right;\n",
       "    }\n",
       "</style>\n",
       "<table border=\"1\" class=\"dataframe\">\n",
       "  <thead>\n",
       "    <tr style=\"text-align: right;\">\n",
       "      <th></th>\n",
       "      <th>target_label</th>\n",
       "      <th>target_prob</th>\n",
       "      <th>target_label_str</th>\n",
       "      <th>target_prob_str</th>\n",
       "      <th>target_label_str_str</th>\n",
       "      <th>target_prob_str_str</th>\n",
       "    </tr>\n",
       "  </thead>\n",
       "  <tbody>\n",
       "    <tr>\n",
       "      <th>0</th>\n",
       "      <td>[1608&gt;2320&gt;2173&gt;3813, 1608&gt;2320&gt;2173&gt;2878, 160...</td>\n",
       "      <td>[0.951836, 0.7650520000000001, 0.136122, 0.006...</td>\n",
       "      <td>['1608&gt;2320&gt;2173&gt;3813', '1608&gt;2320&gt;2173&gt;2878',...</td>\n",
       "      <td>[0.951836, 0.7650520000000001, 0.136122, 0.006...</td>\n",
       "      <td>['1608&gt;2320&gt;2173&gt;3813', '1608&gt;2320&gt;2173&gt;2878',...</td>\n",
       "      <td>[0.951836, 0.7650520000000001, 0.136122, 0.006...</td>\n",
       "    </tr>\n",
       "    <tr>\n",
       "      <th>1</th>\n",
       "      <td>[2199&gt;4592&gt;12, 2199&gt;4592&gt;193, 2199&gt;661&gt;333&gt;360...</td>\n",
       "      <td>[1.0, 2.234e-07, 2.76803e-08, 1.94223000000000...</td>\n",
       "      <td>['2199&gt;4592&gt;12', '2199&gt;4592&gt;193', '2199&gt;661&gt;33...</td>\n",
       "      <td>[1.0, 2.234e-07, 2.76803e-08, 1.94223000000000...</td>\n",
       "      <td>['2199&gt;4592&gt;12', '2199&gt;4592&gt;193', '2199&gt;661&gt;33...</td>\n",
       "      <td>[1.0, 2.234e-07, 2.76803e-08, 1.94223000000000...</td>\n",
       "    </tr>\n",
       "  </tbody>\n",
       "</table>\n",
       "</div>"
      ],
      "text/plain": [
       "                                        target_label  \\\n",
       "0  [1608>2320>2173>3813, 1608>2320>2173>2878, 160...   \n",
       "1  [2199>4592>12, 2199>4592>193, 2199>661>333>360...   \n",
       "\n",
       "                                         target_prob  \\\n",
       "0  [0.951836, 0.7650520000000001, 0.136122, 0.006...   \n",
       "1  [1.0, 2.234e-07, 2.76803e-08, 1.94223000000000...   \n",
       "\n",
       "                                    target_label_str  \\\n",
       "0  ['1608>2320>2173>3813', '1608>2320>2173>2878',...   \n",
       "1  ['2199>4592>12', '2199>4592>193', '2199>661>33...   \n",
       "\n",
       "                                     target_prob_str  \\\n",
       "0  [0.951836, 0.7650520000000001, 0.136122, 0.006...   \n",
       "1  [1.0, 2.234e-07, 2.76803e-08, 1.94223000000000...   \n",
       "\n",
       "                                target_label_str_str  \\\n",
       "0  ['1608>2320>2173>3813', '1608>2320>2173>2878',...   \n",
       "1  ['2199>4592>12', '2199>4592>193', '2199>661>33...   \n",
       "\n",
       "                                 target_prob_str_str  \n",
       "0  [0.951836, 0.7650520000000001, 0.136122, 0.006...  \n",
       "1  [1.0, 2.234e-07, 2.76803e-08, 1.94223000000000...  "
      ]
     },
     "execution_count": 163,
     "metadata": {},
     "output_type": "execute_result"
    }
   ],
   "source": [
    "Final_data.head(2)"
   ]
  },
  {
   "cell_type": "code",
   "execution_count": null,
   "metadata": {},
   "outputs": [],
   "source": []
  }
 ],
 "metadata": {
  "kernelspec": {
   "display_name": "Python 3",
   "language": "python",
   "name": "python3"
  },
  "language_info": {
   "codemirror_mode": {
    "name": "ipython",
    "version": 3
   },
   "file_extension": ".py",
   "mimetype": "text/x-python",
   "name": "python",
   "nbconvert_exporter": "python",
   "pygments_lexer": "ipython3",
   "version": "3.6.5"
  }
 },
 "nbformat": 4,
 "nbformat_minor": 2
}
