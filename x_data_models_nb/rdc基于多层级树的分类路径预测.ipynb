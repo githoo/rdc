{
 "cells": [
  {
   "cell_type": "code",
   "execution_count": 424,
   "metadata": {},
   "outputs": [],
   "source": [
    "import pandas as pd \n",
    "from collections import defaultdict\n",
    "import pickle"
   ]
  },
  {
   "cell_type": "code",
   "execution_count": 425,
   "metadata": {},
   "outputs": [],
   "source": [
    "train_file = './init_rdc_data/rdc-catalog-train.tsv'"
   ]
  },
  {
   "cell_type": "code",
   "execution_count": 426,
   "metadata": {},
   "outputs": [],
   "source": [
    "data_train = pd.read_csv(train_file,sep='\\t',header=-1)"
   ]
  },
  {
   "cell_type": "code",
   "execution_count": 427,
   "metadata": {},
   "outputs": [],
   "source": [
    "classes_standard = data_train.iloc[:,1].unique().tolist()"
   ]
  },
  {
   "cell_type": "code",
   "execution_count": 428,
   "metadata": {},
   "outputs": [
    {
     "data": {
      "text/plain": [
       "'3292>114>1231'"
      ]
     },
     "execution_count": 428,
     "metadata": {},
     "output_type": "execute_result"
    }
   ],
   "source": [
    "classes_standard[0]"
   ]
  },
  {
   "cell_type": "code",
   "execution_count": 429,
   "metadata": {},
   "outputs": [],
   "source": [
    "def tree(): \n",
    "    return defaultdict(tree)"
   ]
  },
  {
   "cell_type": "code",
   "execution_count": 430,
   "metadata": {},
   "outputs": [],
   "source": [
    "base_path = './init_rdc_data/topN_data/8-level-tree/ablstm-tree/predict_out_result_prob.txt.init3-min1-%d'"
   ]
  },
  {
   "cell_type": "code",
   "execution_count": 431,
   "metadata": {},
   "outputs": [],
   "source": [
    "def load_data(tag,threshold=0.000001,sep='\\t'):\n",
    "    data = pd.read_csv(base_path%tag,sep=sep,header=-1)\n",
    "    data['label_list'] = data[[i for i in data.columns if i%2==0]].apply(lambda s:tuple(s),axis=1)\n",
    "    data['prob_list'] = data[[i for i in data.columns.tolist()[:-1] if i%2==1]].apply(lambda s:tuple(s),axis=1)\n",
    "    data['prob_list_f'] = data['prob_list'].apply(lambda s : [i for i in s if i> threshold])\n",
    "    data['prob_list_len'] = data['prob_list_f'].apply(lambda s :len(s))\n",
    "    data['label%d_list_final'%tag] = list(map(lambda x,y: [ str(i)  for i in x[:y]],data['label_list'],data['prob_list_len']))\n",
    "    data['prob%d_list_final'%tag] = list(map(lambda x,y: x[:y],data['prob_list'],data['prob_list_len']))\n",
    "    return data[['label%d_list_final'%tag,'prob%d_list_final'%tag]]"
   ]
  },
  {
   "cell_type": "code",
   "execution_count": 432,
   "metadata": {},
   "outputs": [],
   "source": [
    "data0 = load_data(0)\n",
    "data1 = load_data(1)\n",
    "data2 = load_data(2)\n",
    "data3 = load_data(3)\n",
    "data4 = load_data(4)\n",
    "data5 = load_data(5)\n",
    "data6 = load_data(6)\n",
    "data7 = load_data(7)"
   ]
  },
  {
   "cell_type": "code",
   "execution_count": 433,
   "metadata": {},
   "outputs": [
    {
     "data": {
      "text/html": [
       "<div>\n",
       "<style scoped>\n",
       "    .dataframe tbody tr th:only-of-type {\n",
       "        vertical-align: middle;\n",
       "    }\n",
       "\n",
       "    .dataframe tbody tr th {\n",
       "        vertical-align: top;\n",
       "    }\n",
       "\n",
       "    .dataframe thead th {\n",
       "        text-align: right;\n",
       "    }\n",
       "</style>\n",
       "<table border=\"1\" class=\"dataframe\">\n",
       "  <thead>\n",
       "    <tr style=\"text-align: right;\">\n",
       "      <th></th>\n",
       "      <th>label0_list_final</th>\n",
       "      <th>prob0_list_final</th>\n",
       "    </tr>\n",
       "  </thead>\n",
       "  <tbody>\n",
       "    <tr>\n",
       "      <th>0</th>\n",
       "      <td>[1608]</td>\n",
       "      <td>(1.0,)</td>\n",
       "    </tr>\n",
       "    <tr>\n",
       "      <th>1</th>\n",
       "      <td>[2199]</td>\n",
       "      <td>(1.0,)</td>\n",
       "    </tr>\n",
       "  </tbody>\n",
       "</table>\n",
       "</div>"
      ],
      "text/plain": [
       "  label0_list_final prob0_list_final\n",
       "0            [1608]           (1.0,)\n",
       "1            [2199]           (1.0,)"
      ]
     },
     "execution_count": 433,
     "metadata": {},
     "output_type": "execute_result"
    }
   ],
   "source": [
    "data0.head(2)"
   ]
  },
  {
   "cell_type": "code",
   "execution_count": null,
   "metadata": {},
   "outputs": [],
   "source": []
  },
  {
   "cell_type": "code",
   "execution_count": 434,
   "metadata": {},
   "outputs": [],
   "source": [
    "import os \n",
    "def add_dicts(dict0,key_list):\n",
    "    key_len = len(key_list)\n",
    "    if key_len==1:\n",
    "        dict0[key_list[0]]\n",
    "    elif key_len ==2:\n",
    "        dict0[key_list[0]][key_list[1]]\n",
    "    elif key_len ==3:\n",
    "        dict0[key_list[0]][key_list[1]][key_list[2]]\n",
    "    elif key_len ==4:\n",
    "        dict0[key_list[0]][key_list[1]][key_list[2]][key_list[3]]\n",
    "    elif key_len ==5:\n",
    "        dict0[key_list[0]][key_list[1]][key_list[2]][key_list[3]][key_list[4]]\n",
    "    elif key_len ==6:\n",
    "        dict0[key_list[0]][key_list[1]][key_list[2]][key_list[3]][key_list[4]][key_list[5]] \n",
    "    elif key_len ==7:\n",
    "        dict0[key_list[0]][key_list[0]][key_list[0]][key_list[3]][key_list[4]][key_list[5]][key_list[6]]\n",
    "    return dict0\n",
    "\n",
    "## 生成树\n",
    "def generate_data(data_origin_df,output_file):\n",
    "    data = data_origin_df.copy()\n",
    "    data.columns = ['title','target']\n",
    "    data['target_split'] = data['target'].apply(lambda s : s.split('>'))  \n",
    "    ## 去重\n",
    "    TiTle = data[['target_split','target']].drop_duplicates('target')\n",
    "  \n",
    "    categories = tree()\n",
    "    for i in TiTle['target_split'].tolist():\n",
    "        add_dicts(categories,i)\n",
    "\n",
    "    # 将生成的树保存至Pkl 文件中\n",
    "    outputs = open(output_file,'wb')\n",
    "    pickle.dump(categories, outputs)\n",
    "    outputs.close()\n",
    "    \n",
    "    return categories\n",
    "\n",
    "#generate_data(tree_output_file,output_file)  "
   ]
  },
  {
   "cell_type": "code",
   "execution_count": 435,
   "metadata": {},
   "outputs": [],
   "source": [
    "#生成树\n",
    "tree_output_file='./init_rdc_data/category_tree_rdc.pkl'\n",
    "  "
   ]
  },
  {
   "cell_type": "code",
   "execution_count": 436,
   "metadata": {},
   "outputs": [],
   "source": [
    "inputs = open(tree_output_file,'rb')\n",
    "category_tree = pickle.load(inputs)\n",
    "inputs.close()"
   ]
  },
  {
   "cell_type": "code",
   "execution_count": 437,
   "metadata": {},
   "outputs": [],
   "source": [
    "def generate_label(category_tree,label_list):\n",
    "    L = []\n",
    "    dicts ={}\n",
    "    for i,j in enumerate(label_list):\n",
    "        if i == 0:\n",
    "            L.append(label_list[i])\n",
    "            dicts = category_tree[j]\n",
    "        else:\n",
    "           # print(category_tree[label_list[i-1]].keys())\n",
    "            if j in dicts.keys():\n",
    "                L.append(j)\n",
    "                dicts = dicts[j]\n",
    "            else:\n",
    "                #print(i,j)\n",
    "                break\n",
    "    #print('L',L)\n",
    "    return '>'.join(L)"
   ]
  },
  {
   "cell_type": "code",
   "execution_count": 438,
   "metadata": {},
   "outputs": [],
   "source": [
    "from itertools import permutations,product,combinations"
   ]
  },
  {
   "cell_type": "code",
   "execution_count": 439,
   "metadata": {},
   "outputs": [],
   "source": [
    "All_Data = pd.concat([data0,data1,data2,data3,data4,data5,data6,data7],axis=1)"
   ]
  },
  {
   "cell_type": "code",
   "execution_count": 440,
   "metadata": {},
   "outputs": [
    {
     "data": {
      "text/html": [
       "<div>\n",
       "<style scoped>\n",
       "    .dataframe tbody tr th:only-of-type {\n",
       "        vertical-align: middle;\n",
       "    }\n",
       "\n",
       "    .dataframe tbody tr th {\n",
       "        vertical-align: top;\n",
       "    }\n",
       "\n",
       "    .dataframe thead th {\n",
       "        text-align: right;\n",
       "    }\n",
       "</style>\n",
       "<table border=\"1\" class=\"dataframe\">\n",
       "  <thead>\n",
       "    <tr style=\"text-align: right;\">\n",
       "      <th></th>\n",
       "      <th>label0_list_final</th>\n",
       "      <th>prob0_list_final</th>\n",
       "      <th>label1_list_final</th>\n",
       "      <th>prob1_list_final</th>\n",
       "      <th>label2_list_final</th>\n",
       "      <th>prob2_list_final</th>\n",
       "      <th>label3_list_final</th>\n",
       "      <th>prob3_list_final</th>\n",
       "      <th>label4_list_final</th>\n",
       "      <th>prob4_list_final</th>\n",
       "      <th>label5_list_final</th>\n",
       "      <th>prob5_list_final</th>\n",
       "      <th>label6_list_final</th>\n",
       "      <th>prob6_list_final</th>\n",
       "      <th>label7_list_final</th>\n",
       "      <th>prob7_list_final</th>\n",
       "    </tr>\n",
       "  </thead>\n",
       "  <tbody>\n",
       "    <tr>\n",
       "      <th>0</th>\n",
       "      <td>[1608]</td>\n",
       "      <td>(1.0,)</td>\n",
       "      <td>[2320]</td>\n",
       "      <td>(1.0,)</td>\n",
       "      <td>[2173]</td>\n",
       "      <td>(1.0,)</td>\n",
       "      <td>[3813, 2878, 1546]</td>\n",
       "      <td>(0.566875, 0.432849, 0.00027487700000000003)</td>\n",
       "      <td>[2363, 3923, 3606]</td>\n",
       "      <td>(0.941559, 0.0208699, 0.00782667)</td>\n",
       "      <td>[1399, 2517, 2600]</td>\n",
       "      <td>(0.8414959999999999, 0.0734155, 0.0287458)</td>\n",
       "      <td>[1883, 3452, 1729]</td>\n",
       "      <td>(0.349367, 0.138015, 0.08404760000000001)</td>\n",
       "      <td>[4481, 2444]</td>\n",
       "      <td>(0.9999959999999999, 3.5880199999999995e-06)</td>\n",
       "    </tr>\n",
       "    <tr>\n",
       "      <th>1</th>\n",
       "      <td>[2199]</td>\n",
       "      <td>(1.0,)</td>\n",
       "      <td>[4592]</td>\n",
       "      <td>(1.0,)</td>\n",
       "      <td>[12]</td>\n",
       "      <td>(1.0,)</td>\n",
       "      <td>[3609, 2845, 1489]</td>\n",
       "      <td>(0.610422, 0.124628, 0.0947992)</td>\n",
       "      <td>[3796, 1424, 4401]</td>\n",
       "      <td>(0.556242, 0.20908400000000002, 0.075344899999...</td>\n",
       "      <td>[4899, 1391, 229]</td>\n",
       "      <td>(0.9104120000000001, 0.0151095, 0.011604600000...</td>\n",
       "      <td>[1883, 3452, 1046]</td>\n",
       "      <td>(0.546412, 0.0935856, 0.0481574)</td>\n",
       "      <td>[4481, 2444]</td>\n",
       "      <td>(0.9999969999999999, 2.59897e-06)</td>\n",
       "    </tr>\n",
       "    <tr>\n",
       "      <th>2</th>\n",
       "      <td>[2199]</td>\n",
       "      <td>(1.0,)</td>\n",
       "      <td>[4592]</td>\n",
       "      <td>(1.0,)</td>\n",
       "      <td>[12]</td>\n",
       "      <td>(1.0,)</td>\n",
       "      <td>[512, 1500, 98]</td>\n",
       "      <td>(0.849407, 0.0643616, 0.0222667)</td>\n",
       "      <td>[4157, 101, 2787]</td>\n",
       "      <td>(0.817684, 0.17836, 0.00349616)</td>\n",
       "      <td>[2157, 4421, 471]</td>\n",
       "      <td>(0.692923, 0.30696100000000004, 3.28739e-05)</td>\n",
       "      <td>[1883, 3452, 2963]</td>\n",
       "      <td>(0.54779, 0.10340099999999999, 0.0228807)</td>\n",
       "      <td>[4481, 2444]</td>\n",
       "      <td>(0.999999, 1.01321e-06)</td>\n",
       "    </tr>\n",
       "  </tbody>\n",
       "</table>\n",
       "</div>"
      ],
      "text/plain": [
       "  label0_list_final prob0_list_final label1_list_final prob1_list_final  \\\n",
       "0            [1608]           (1.0,)            [2320]           (1.0,)   \n",
       "1            [2199]           (1.0,)            [4592]           (1.0,)   \n",
       "2            [2199]           (1.0,)            [4592]           (1.0,)   \n",
       "\n",
       "  label2_list_final prob2_list_final   label3_list_final  \\\n",
       "0            [2173]           (1.0,)  [3813, 2878, 1546]   \n",
       "1              [12]           (1.0,)  [3609, 2845, 1489]   \n",
       "2              [12]           (1.0,)     [512, 1500, 98]   \n",
       "\n",
       "                               prob3_list_final   label4_list_final  \\\n",
       "0  (0.566875, 0.432849, 0.00027487700000000003)  [2363, 3923, 3606]   \n",
       "1               (0.610422, 0.124628, 0.0947992)  [3796, 1424, 4401]   \n",
       "2              (0.849407, 0.0643616, 0.0222667)   [4157, 101, 2787]   \n",
       "\n",
       "                                    prob4_list_final   label5_list_final  \\\n",
       "0                  (0.941559, 0.0208699, 0.00782667)  [1399, 2517, 2600]   \n",
       "1  (0.556242, 0.20908400000000002, 0.075344899999...   [4899, 1391, 229]   \n",
       "2                    (0.817684, 0.17836, 0.00349616)   [2157, 4421, 471]   \n",
       "\n",
       "                                    prob5_list_final   label6_list_final  \\\n",
       "0         (0.8414959999999999, 0.0734155, 0.0287458)  [1883, 3452, 1729]   \n",
       "1  (0.9104120000000001, 0.0151095, 0.011604600000...  [1883, 3452, 1046]   \n",
       "2       (0.692923, 0.30696100000000004, 3.28739e-05)  [1883, 3452, 2963]   \n",
       "\n",
       "                            prob6_list_final label7_list_final  \\\n",
       "0  (0.349367, 0.138015, 0.08404760000000001)      [4481, 2444]   \n",
       "1           (0.546412, 0.0935856, 0.0481574)      [4481, 2444]   \n",
       "2  (0.54779, 0.10340099999999999, 0.0228807)      [4481, 2444]   \n",
       "\n",
       "                               prob7_list_final  \n",
       "0  (0.9999959999999999, 3.5880199999999995e-06)  \n",
       "1             (0.9999969999999999, 2.59897e-06)  \n",
       "2                       (0.999999, 1.01321e-06)  "
      ]
     },
     "execution_count": 440,
     "metadata": {},
     "output_type": "execute_result"
    }
   ],
   "source": [
    "All_Data.head(3)"
   ]
  },
  {
   "cell_type": "code",
   "execution_count": 441,
   "metadata": {},
   "outputs": [],
   "source": [
    "# 计算排列组合\n",
    "def Permutation_and_Probablity(list_k):\n",
    "    list_length= len(list_k)\n",
    "    if list_length==1:\n",
    "        return list(product(list_k[0]))\n",
    "    elif list_length==2:\n",
    "        return list(product(list_k[0],list_k[1]))\n",
    "    elif list_length==3:\n",
    "        return list(product(list_k[0],list_k[1],list_k[2]))\n",
    "    elif list_length==4:\n",
    "        return list(product(list_k[0],list_k[1],list_k[2],list_k[3]))\n",
    "    elif list_length==5:\n",
    "        return list(product(list_k[0],list_k[1],list_k[2],list_k[3],list_k[4]))\n",
    "    elif list_length==6:\n",
    "        return list(product(list_k[0],list_k[1],list_k[2],list_k[3],list_k[4],list_k[5]))\n",
    "    elif list_length==7:\n",
    "        return list(product(list_k[0],list_k[1],list_k[2],list_k[3],list_k[4],list_k[5],list_k[6]))\n",
    "    elif list_length==8:\n",
    "        return list(product(list_k[0],list_k[1],list_k[2],list_k[3],list_k[4],list_k[5],list_k[6]))\n",
    "    else:\n",
    "        pass\n",
    "    "
   ]
  },
  {
   "cell_type": "code",
   "execution_count": 442,
   "metadata": {},
   "outputs": [],
   "source": [
    "def pading_index(inputs_list):\n",
    "    # 遇到有 空列表  的 停止，并返回路径的排列组合\n",
    "    inputs_list = [list(i) for i in inputs_list]\n",
    "    if [] in inputs_list:\n",
    "        flag= inputs_list.index([])\n",
    "        inputs_list=inputs_list[:flag]\n",
    "    return Permutation_and_Probablity(inputs_list)"
   ]
  },
  {
   "cell_type": "code",
   "execution_count": 443,
   "metadata": {},
   "outputs": [],
   "source": [
    "import numpy as np"
   ]
  },
  {
   "cell_type": "code",
   "execution_count": 444,
   "metadata": {},
   "outputs": [],
   "source": [
    "def pading_prob(inputs_list):\n",
    "    # 将所有的概率/label 从二维数组修改为一维数组\n",
    "    inputs_list = [list(i) for i in inputs_list]\n",
    "    if [] in inputs_list:\n",
    "        flag= inputs_list.index([])\n",
    "        inputs_list=inputs_list[:flag]\n",
    "    prob_list=[]\n",
    "    for i in inputs_list:\n",
    "        prob_list.extend(i)\n",
    "    return prob_list"
   ]
  },
  {
   "cell_type": "code",
   "execution_count": 445,
   "metadata": {},
   "outputs": [],
   "source": [
    "# 将概率/label横向拼接"
   ]
  },
  {
   "cell_type": "code",
   "execution_count": 446,
   "metadata": {},
   "outputs": [],
   "source": [
    "All_Data['prob_all'] = All_Data[['prob%d_list_final'%(i-1) for i in range(1,9)]].apply(lambda s: tuple(s),axis=1)"
   ]
  },
  {
   "cell_type": "code",
   "execution_count": 447,
   "metadata": {},
   "outputs": [],
   "source": [
    "All_Data['label_all']= All_Data[['label%d_list_final'%(i-1) for i in range(1,9)]].apply(lambda s: tuple(s),axis=1)"
   ]
  },
  {
   "cell_type": "code",
   "execution_count": 492,
   "metadata": {},
   "outputs": [],
   "source": [
    "All_Data['all_path_refer'] = All_Data['label_all'].apply(lambda s: pading_index(s))"
   ]
  },
  {
   "cell_type": "code",
   "execution_count": null,
   "metadata": {},
   "outputs": [],
   "source": [
    "#依靠类目树查找最大搜索路径"
   ]
  },
  {
   "cell_type": "code",
   "execution_count": 501,
   "metadata": {},
   "outputs": [],
   "source": [
    "All_Data['tree_paths'] = All_Data['all_path_refer'].apply(lambda s :','.join(list(pd.Series([generate_label(category_tree,i) for i in s]).unique())))"
   ]
  },
  {
   "cell_type": "code",
   "execution_count": 504,
   "metadata": {},
   "outputs": [],
   "source": [
    "#计算可拼接成的路径数"
   ]
  },
  {
   "cell_type": "code",
   "execution_count": 505,
   "metadata": {},
   "outputs": [],
   "source": [
    "All_Data['path_lenth']= All_Data['tree_paths'].apply(lambda s:len(s.split(',')))"
   ]
  },
  {
   "cell_type": "code",
   "execution_count": 506,
   "metadata": {},
   "outputs": [],
   "source": [
    "# 做成一维列表 用于后续生成 label-prob字典"
   ]
  },
  {
   "cell_type": "code",
   "execution_count": 507,
   "metadata": {},
   "outputs": [],
   "source": [
    "All_Data['prob_all_pads'] = All_Data['prob_all'].apply(lambda s: pading_prob(s))"
   ]
  },
  {
   "cell_type": "code",
   "execution_count": 508,
   "metadata": {},
   "outputs": [],
   "source": [
    "All_Data['label_all_pads']= All_Data['label_all'].apply(lambda s: pading_prob(s))"
   ]
  },
  {
   "cell_type": "code",
   "execution_count": 509,
   "metadata": {},
   "outputs": [],
   "source": [
    "All_Data['label_prob_dict'] =list(map(lambda x,y:dict(zip(x,y)), All_Data['label_all_pads'],All_Data['prob_all_pads']))"
   ]
  },
  {
   "cell_type": "code",
   "execution_count": 510,
   "metadata": {},
   "outputs": [
    {
     "data": {
      "text/html": [
       "<div>\n",
       "<style scoped>\n",
       "    .dataframe tbody tr th:only-of-type {\n",
       "        vertical-align: middle;\n",
       "    }\n",
       "\n",
       "    .dataframe tbody tr th {\n",
       "        vertical-align: top;\n",
       "    }\n",
       "\n",
       "    .dataframe thead th {\n",
       "        text-align: right;\n",
       "    }\n",
       "</style>\n",
       "<table border=\"1\" class=\"dataframe\">\n",
       "  <thead>\n",
       "    <tr style=\"text-align: right;\">\n",
       "      <th></th>\n",
       "      <th>label0_list_final</th>\n",
       "      <th>prob0_list_final</th>\n",
       "      <th>label1_list_final</th>\n",
       "      <th>prob1_list_final</th>\n",
       "      <th>label2_list_final</th>\n",
       "      <th>prob2_list_final</th>\n",
       "      <th>label3_list_final</th>\n",
       "      <th>prob3_list_final</th>\n",
       "      <th>label4_list_final</th>\n",
       "      <th>prob4_list_final</th>\n",
       "      <th>...</th>\n",
       "      <th>all_path_refer</th>\n",
       "      <th>tree_paths</th>\n",
       "      <th>path_lenth</th>\n",
       "      <th>prob_all_pads</th>\n",
       "      <th>label_all_pads</th>\n",
       "      <th>label_prob_dict</th>\n",
       "      <th>selected_label</th>\n",
       "      <th>selected_label_depth</th>\n",
       "      <th>selected_label_depth_str</th>\n",
       "      <th>selected_label_str</th>\n",
       "    </tr>\n",
       "  </thead>\n",
       "  <tbody>\n",
       "    <tr>\n",
       "      <th>0</th>\n",
       "      <td>[1608]</td>\n",
       "      <td>(1.0,)</td>\n",
       "      <td>[2320]</td>\n",
       "      <td>(1.0,)</td>\n",
       "      <td>[2173]</td>\n",
       "      <td>(1.0,)</td>\n",
       "      <td>[3813, 2878, 1546]</td>\n",
       "      <td>(0.566875, 0.432849, 0.00027487700000000003)</td>\n",
       "      <td>[2363, 3923, 3606]</td>\n",
       "      <td>(0.941559, 0.0208699, 0.00782667)</td>\n",
       "      <td>...</td>\n",
       "      <td>[(1608, 2320, 2173, 3813, 2363, 1399, 1883), (...</td>\n",
       "      <td>1608&gt;2320&gt;2173&gt;3813,1608&gt;2320&gt;2173&gt;2878,1608&gt;2...</td>\n",
       "      <td>3</td>\n",
       "      <td>[1.0, 1.0, 1.0, 0.566875, 0.432849, 0.00027487...</td>\n",
       "      <td>[1608, 2320, 2173, 3813, 2878, 1546, 2363, 392...</td>\n",
       "      <td>{'1608': 1.0, '2320': 1.0, '2173': 1.0, '3813'...</td>\n",
       "      <td>([1608&gt;2320&gt;2173&gt;2878, 1608&gt;2320&gt;2173&gt;3813], [...</td>\n",
       "      <td>([1608&gt;2320&gt;2173&gt;2878, 1608&gt;2320&gt;2173&gt;3813], [...</td>\n",
       "      <td>(['1608&gt;2320&gt;2173&gt;2878', '1608&gt;2320&gt;2173&gt;3813'...</td>\n",
       "      <td>(['1608&gt;2320&gt;2173&gt;2878', '1608&gt;2320&gt;2173&gt;3813'...</td>\n",
       "    </tr>\n",
       "    <tr>\n",
       "      <th>1</th>\n",
       "      <td>[2199]</td>\n",
       "      <td>(1.0,)</td>\n",
       "      <td>[4592]</td>\n",
       "      <td>(1.0,)</td>\n",
       "      <td>[12]</td>\n",
       "      <td>(1.0,)</td>\n",
       "      <td>[3609, 2845, 1489]</td>\n",
       "      <td>(0.610422, 0.124628, 0.0947992)</td>\n",
       "      <td>[3796, 1424, 4401]</td>\n",
       "      <td>(0.556242, 0.20908400000000002, 0.075344899999...</td>\n",
       "      <td>...</td>\n",
       "      <td>[(2199, 4592, 12, 3609, 3796, 4899, 1883), (21...</td>\n",
       "      <td>2199&gt;4592&gt;12</td>\n",
       "      <td>1</td>\n",
       "      <td>[1.0, 1.0, 1.0, 0.610422, 0.124628, 0.0947992,...</td>\n",
       "      <td>[2199, 4592, 12, 3609, 2845, 1489, 3796, 1424,...</td>\n",
       "      <td>{'2199': 1.0, '4592': 1.0, '12': 1.0, '3609': ...</td>\n",
       "      <td>([2199&gt;4592&gt;12], [1.0])</td>\n",
       "      <td>([2199&gt;4592&gt;12], [1.0])</td>\n",
       "      <td>(['2199&gt;4592&gt;12'], [1.0])</td>\n",
       "      <td>(['2199&gt;4592&gt;12'], [1.0])</td>\n",
       "    </tr>\n",
       "  </tbody>\n",
       "</table>\n",
       "<p>2 rows × 28 columns</p>\n",
       "</div>"
      ],
      "text/plain": [
       "  label0_list_final prob0_list_final label1_list_final prob1_list_final  \\\n",
       "0            [1608]           (1.0,)            [2320]           (1.0,)   \n",
       "1            [2199]           (1.0,)            [4592]           (1.0,)   \n",
       "\n",
       "  label2_list_final prob2_list_final   label3_list_final  \\\n",
       "0            [2173]           (1.0,)  [3813, 2878, 1546]   \n",
       "1              [12]           (1.0,)  [3609, 2845, 1489]   \n",
       "\n",
       "                               prob3_list_final   label4_list_final  \\\n",
       "0  (0.566875, 0.432849, 0.00027487700000000003)  [2363, 3923, 3606]   \n",
       "1               (0.610422, 0.124628, 0.0947992)  [3796, 1424, 4401]   \n",
       "\n",
       "                                    prob4_list_final  \\\n",
       "0                  (0.941559, 0.0208699, 0.00782667)   \n",
       "1  (0.556242, 0.20908400000000002, 0.075344899999...   \n",
       "\n",
       "                         ...                          \\\n",
       "0                        ...                           \n",
       "1                        ...                           \n",
       "\n",
       "                                      all_path_refer  \\\n",
       "0  [(1608, 2320, 2173, 3813, 2363, 1399, 1883), (...   \n",
       "1  [(2199, 4592, 12, 3609, 3796, 4899, 1883), (21...   \n",
       "\n",
       "                                          tree_paths path_lenth  \\\n",
       "0  1608>2320>2173>3813,1608>2320>2173>2878,1608>2...          3   \n",
       "1                                       2199>4592>12          1   \n",
       "\n",
       "                                       prob_all_pads  \\\n",
       "0  [1.0, 1.0, 1.0, 0.566875, 0.432849, 0.00027487...   \n",
       "1  [1.0, 1.0, 1.0, 0.610422, 0.124628, 0.0947992,...   \n",
       "\n",
       "                                      label_all_pads  \\\n",
       "0  [1608, 2320, 2173, 3813, 2878, 1546, 2363, 392...   \n",
       "1  [2199, 4592, 12, 3609, 2845, 1489, 3796, 1424,...   \n",
       "\n",
       "                                     label_prob_dict  \\\n",
       "0  {'1608': 1.0, '2320': 1.0, '2173': 1.0, '3813'...   \n",
       "1  {'2199': 1.0, '4592': 1.0, '12': 1.0, '3609': ...   \n",
       "\n",
       "                                      selected_label  \\\n",
       "0  ([1608>2320>2173>2878, 1608>2320>2173>3813], [...   \n",
       "1                            ([2199>4592>12], [1.0])   \n",
       "\n",
       "                                selected_label_depth  \\\n",
       "0  ([1608>2320>2173>2878, 1608>2320>2173>3813], [...   \n",
       "1                            ([2199>4592>12], [1.0])   \n",
       "\n",
       "                            selected_label_depth_str  \\\n",
       "0  (['1608>2320>2173>2878', '1608>2320>2173>3813'...   \n",
       "1                          (['2199>4592>12'], [1.0])   \n",
       "\n",
       "                                  selected_label_str  \n",
       "0  (['1608>2320>2173>2878', '1608>2320>2173>3813'...  \n",
       "1                          (['2199>4592>12'], [1.0])  \n",
       "\n",
       "[2 rows x 28 columns]"
      ]
     },
     "execution_count": 510,
     "metadata": {},
     "output_type": "execute_result"
    }
   ],
   "source": [
    "All_Data.head(2)"
   ]
  },
  {
   "cell_type": "code",
   "execution_count": 511,
   "metadata": {},
   "outputs": [],
   "source": [
    "# 计算概率连乘分数 并返回分数最大的那个"
   ]
  },
  {
   "cell_type": "code",
   "execution_count": 512,
   "metadata": {},
   "outputs": [],
   "source": [
    "def generate_scores(paths,dicts,max_depth=False):\n",
    "    paths_list=paths.split(',')\n",
    "    #print('paths,dicts',paths,dicts)\n",
    "    #print('paths_list',paths_list)\n",
    "    if max_depth==True:\n",
    "        paths_lists_tmp = []\n",
    "        lenth_list = [len(i.split('>')) for i in paths_list ]\n",
    "        max_lenth= max(lenth_list)\n",
    "        for i in paths_list:\n",
    "            if len(i.split('>'))==max_lenth:\n",
    "                paths_lists_tmp.append(i)\n",
    "            else:\n",
    "                continue\n",
    "        paths_list= paths_lists_tmp\n",
    "    scores_list = []\n",
    "    #print('paths_list',paths_list)\n",
    "    paths_list=list(set(paths_list)&set(classes_standard))\n",
    "    #print('paths_list',paths_list)\n",
    "    for path_base in paths_list:  \n",
    "        #print('path_base',path_base)\n",
    "        scores_list.append(np.mean([dicts[i] for i in path_base.split('>')]))\n",
    "    \n",
    "    score_list_new = sorted(scores_list)[-10:]\n",
    "    index_list = [scores_list.index(i) for i in scores_list]\n",
    "    return [paths_list[i] for i in index_list],score_list_new"
   ]
  },
  {
   "cell_type": "code",
   "execution_count": 513,
   "metadata": {},
   "outputs": [],
   "source": [
    "#计算权重最大的路径"
   ]
  },
  {
   "cell_type": "code",
   "execution_count": 514,
   "metadata": {},
   "outputs": [],
   "source": [
    "All_Data['selected_label'] = list(map(lambda x,y:generate_scores(x,y),All_Data['tree_paths'],All_Data['label_prob_dict']))"
   ]
  },
  {
   "cell_type": "code",
   "execution_count": 515,
   "metadata": {},
   "outputs": [],
   "source": [
    "#计算深度最大中权重最大的路径"
   ]
  },
  {
   "cell_type": "code",
   "execution_count": 516,
   "metadata": {},
   "outputs": [],
   "source": [
    "All_Data['selected_label_depth'] = list(map(lambda x,y:generate_scores(x,y,True),All_Data['tree_paths'],All_Data['label_prob_dict']))"
   ]
  },
  {
   "cell_type": "code",
   "execution_count": 517,
   "metadata": {},
   "outputs": [
    {
     "data": {
      "text/html": [
       "<div>\n",
       "<style scoped>\n",
       "    .dataframe tbody tr th:only-of-type {\n",
       "        vertical-align: middle;\n",
       "    }\n",
       "\n",
       "    .dataframe tbody tr th {\n",
       "        vertical-align: top;\n",
       "    }\n",
       "\n",
       "    .dataframe thead th {\n",
       "        text-align: right;\n",
       "    }\n",
       "</style>\n",
       "<table border=\"1\" class=\"dataframe\">\n",
       "  <thead>\n",
       "    <tr style=\"text-align: right;\">\n",
       "      <th></th>\n",
       "      <th>label0_list_final</th>\n",
       "      <th>prob0_list_final</th>\n",
       "      <th>label1_list_final</th>\n",
       "      <th>prob1_list_final</th>\n",
       "      <th>label2_list_final</th>\n",
       "      <th>prob2_list_final</th>\n",
       "      <th>label3_list_final</th>\n",
       "      <th>prob3_list_final</th>\n",
       "      <th>label4_list_final</th>\n",
       "      <th>prob4_list_final</th>\n",
       "      <th>...</th>\n",
       "      <th>all_path_refer</th>\n",
       "      <th>tree_paths</th>\n",
       "      <th>path_lenth</th>\n",
       "      <th>prob_all_pads</th>\n",
       "      <th>label_all_pads</th>\n",
       "      <th>label_prob_dict</th>\n",
       "      <th>selected_label</th>\n",
       "      <th>selected_label_depth</th>\n",
       "      <th>selected_label_depth_str</th>\n",
       "      <th>selected_label_str</th>\n",
       "    </tr>\n",
       "  </thead>\n",
       "  <tbody>\n",
       "    <tr>\n",
       "      <th>0</th>\n",
       "      <td>[1608]</td>\n",
       "      <td>(1.0,)</td>\n",
       "      <td>[2320]</td>\n",
       "      <td>(1.0,)</td>\n",
       "      <td>[2173]</td>\n",
       "      <td>(1.0,)</td>\n",
       "      <td>[3813, 2878, 1546]</td>\n",
       "      <td>(0.566875, 0.432849, 0.00027487700000000003)</td>\n",
       "      <td>[2363, 3923, 3606]</td>\n",
       "      <td>(0.941559, 0.0208699, 0.00782667)</td>\n",
       "      <td>...</td>\n",
       "      <td>[(1608, 2320, 2173, 3813, 2363, 1399, 1883), (...</td>\n",
       "      <td>1608&gt;2320&gt;2173&gt;3813,1608&gt;2320&gt;2173&gt;2878,1608&gt;2...</td>\n",
       "      <td>3</td>\n",
       "      <td>[1.0, 1.0, 1.0, 0.566875, 0.432849, 0.00027487...</td>\n",
       "      <td>[1608, 2320, 2173, 3813, 2878, 1546, 2363, 392...</td>\n",
       "      <td>{'1608': 1.0, '2320': 1.0, '2173': 1.0, '3813'...</td>\n",
       "      <td>([1608&gt;2320&gt;2173&gt;2878, 1608&gt;2320&gt;2173&gt;3813], [...</td>\n",
       "      <td>([1608&gt;2320&gt;2173&gt;2878, 1608&gt;2320&gt;2173&gt;3813], [...</td>\n",
       "      <td>(['1608&gt;2320&gt;2173&gt;2878', '1608&gt;2320&gt;2173&gt;3813'...</td>\n",
       "      <td>(['1608&gt;2320&gt;2173&gt;2878', '1608&gt;2320&gt;2173&gt;3813'...</td>\n",
       "    </tr>\n",
       "    <tr>\n",
       "      <th>1</th>\n",
       "      <td>[2199]</td>\n",
       "      <td>(1.0,)</td>\n",
       "      <td>[4592]</td>\n",
       "      <td>(1.0,)</td>\n",
       "      <td>[12]</td>\n",
       "      <td>(1.0,)</td>\n",
       "      <td>[3609, 2845, 1489]</td>\n",
       "      <td>(0.610422, 0.124628, 0.0947992)</td>\n",
       "      <td>[3796, 1424, 4401]</td>\n",
       "      <td>(0.556242, 0.20908400000000002, 0.075344899999...</td>\n",
       "      <td>...</td>\n",
       "      <td>[(2199, 4592, 12, 3609, 3796, 4899, 1883), (21...</td>\n",
       "      <td>2199&gt;4592&gt;12</td>\n",
       "      <td>1</td>\n",
       "      <td>[1.0, 1.0, 1.0, 0.610422, 0.124628, 0.0947992,...</td>\n",
       "      <td>[2199, 4592, 12, 3609, 2845, 1489, 3796, 1424,...</td>\n",
       "      <td>{'2199': 1.0, '4592': 1.0, '12': 1.0, '3609': ...</td>\n",
       "      <td>([2199&gt;4592&gt;12], [1.0])</td>\n",
       "      <td>([2199&gt;4592&gt;12], [1.0])</td>\n",
       "      <td>(['2199&gt;4592&gt;12'], [1.0])</td>\n",
       "      <td>(['2199&gt;4592&gt;12'], [1.0])</td>\n",
       "    </tr>\n",
       "  </tbody>\n",
       "</table>\n",
       "<p>2 rows × 28 columns</p>\n",
       "</div>"
      ],
      "text/plain": [
       "  label0_list_final prob0_list_final label1_list_final prob1_list_final  \\\n",
       "0            [1608]           (1.0,)            [2320]           (1.0,)   \n",
       "1            [2199]           (1.0,)            [4592]           (1.0,)   \n",
       "\n",
       "  label2_list_final prob2_list_final   label3_list_final  \\\n",
       "0            [2173]           (1.0,)  [3813, 2878, 1546]   \n",
       "1              [12]           (1.0,)  [3609, 2845, 1489]   \n",
       "\n",
       "                               prob3_list_final   label4_list_final  \\\n",
       "0  (0.566875, 0.432849, 0.00027487700000000003)  [2363, 3923, 3606]   \n",
       "1               (0.610422, 0.124628, 0.0947992)  [3796, 1424, 4401]   \n",
       "\n",
       "                                    prob4_list_final  \\\n",
       "0                  (0.941559, 0.0208699, 0.00782667)   \n",
       "1  (0.556242, 0.20908400000000002, 0.075344899999...   \n",
       "\n",
       "                         ...                          \\\n",
       "0                        ...                           \n",
       "1                        ...                           \n",
       "\n",
       "                                      all_path_refer  \\\n",
       "0  [(1608, 2320, 2173, 3813, 2363, 1399, 1883), (...   \n",
       "1  [(2199, 4592, 12, 3609, 3796, 4899, 1883), (21...   \n",
       "\n",
       "                                          tree_paths path_lenth  \\\n",
       "0  1608>2320>2173>3813,1608>2320>2173>2878,1608>2...          3   \n",
       "1                                       2199>4592>12          1   \n",
       "\n",
       "                                       prob_all_pads  \\\n",
       "0  [1.0, 1.0, 1.0, 0.566875, 0.432849, 0.00027487...   \n",
       "1  [1.0, 1.0, 1.0, 0.610422, 0.124628, 0.0947992,...   \n",
       "\n",
       "                                      label_all_pads  \\\n",
       "0  [1608, 2320, 2173, 3813, 2878, 1546, 2363, 392...   \n",
       "1  [2199, 4592, 12, 3609, 2845, 1489, 3796, 1424,...   \n",
       "\n",
       "                                     label_prob_dict  \\\n",
       "0  {'1608': 1.0, '2320': 1.0, '2173': 1.0, '3813'...   \n",
       "1  {'2199': 1.0, '4592': 1.0, '12': 1.0, '3609': ...   \n",
       "\n",
       "                                      selected_label  \\\n",
       "0  ([1608>2320>2173>2878, 1608>2320>2173>3813], [...   \n",
       "1                            ([2199>4592>12], [1.0])   \n",
       "\n",
       "                                selected_label_depth  \\\n",
       "0  ([1608>2320>2173>2878, 1608>2320>2173>3813], [...   \n",
       "1                            ([2199>4592>12], [1.0])   \n",
       "\n",
       "                            selected_label_depth_str  \\\n",
       "0  (['1608>2320>2173>2878', '1608>2320>2173>3813'...   \n",
       "1                          (['2199>4592>12'], [1.0])   \n",
       "\n",
       "                                  selected_label_str  \n",
       "0  (['1608>2320>2173>2878', '1608>2320>2173>3813'...  \n",
       "1                          (['2199>4592>12'], [1.0])  \n",
       "\n",
       "[2 rows x 28 columns]"
      ]
     },
     "execution_count": 517,
     "metadata": {},
     "output_type": "execute_result"
    }
   ],
   "source": [
    "All_Data.head(2)"
   ]
  },
  {
   "cell_type": "code",
   "execution_count": 518,
   "metadata": {},
   "outputs": [],
   "source": [
    "All_Data['selected_label_depth_str'] = All_Data['selected_label_depth'].apply(lambda s:str(s))"
   ]
  },
  {
   "cell_type": "code",
   "execution_count": 519,
   "metadata": {},
   "outputs": [],
   "source": [
    "All_Data['selected_label_str']= All_Data['selected_label'].apply(lambda s:str(s))"
   ]
  },
  {
   "cell_type": "code",
   "execution_count": 520,
   "metadata": {},
   "outputs": [],
   "source": [
    "output_path = './init_rdc_data/topN_data/8-level-tree/'"
   ]
  },
  {
   "cell_type": "code",
   "execution_count": 521,
   "metadata": {},
   "outputs": [],
   "source": [
    "All_Data[['selected_label_depth_str']].to_csv(os.path.join(output_path,'level_tree_max_depth_1.tsv'),sep='\\t',header=None,index=False)"
   ]
  },
  {
   "cell_type": "code",
   "execution_count": 522,
   "metadata": {},
   "outputs": [],
   "source": [
    "All_Data[['selected_label_str']].to_csv(os.path.join(output_path,'levle_tree_max_prob_1.tsv'),sep='\\t',header=None,index=False)"
   ]
  },
  {
   "cell_type": "code",
   "execution_count": null,
   "metadata": {},
   "outputs": [],
   "source": []
  },
  {
   "cell_type": "code",
   "execution_count": null,
   "metadata": {},
   "outputs": [],
   "source": []
  }
 ],
 "metadata": {
  "kernelspec": {
   "display_name": "Python 3",
   "language": "python",
   "name": "python3"
  },
  "language_info": {
   "codemirror_mode": {
    "name": "ipython",
    "version": 3
   },
   "file_extension": ".py",
   "mimetype": "text/x-python",
   "name": "python",
   "nbconvert_exporter": "python",
   "pygments_lexer": "ipython3",
   "version": "3.6.5"
  }
 },
 "nbformat": 4,
 "nbformat_minor": 2
}
